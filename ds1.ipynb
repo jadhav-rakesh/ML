{
  "nbformat": 4,
  "nbformat_minor": 0,
  "metadata": {
    "colab": {
      "provenance": [],
      "authorship_tag": "ABX9TyNE4y2skN5OiLyAFgKHJaoS",
      "include_colab_link": true
    },
    "kernelspec": {
      "name": "python3",
      "display_name": "Python 3"
    },
    "language_info": {
      "name": "python"
    }
  },
  "cells": [
    {
      "cell_type": "markdown",
      "metadata": {
        "id": "view-in-github",
        "colab_type": "text"
      },
      "source": [
        "<a href=\"https://colab.research.google.com/github/jadhav-rakesh/ML/blob/main/ds1.ipynb\" target=\"_parent\"><img src=\"https://colab.research.google.com/assets/colab-badge.svg\" alt=\"Open In Colab\"/></a>"
      ]
    },
    {
      "cell_type": "code",
      "execution_count": 2,
      "metadata": {
        "id": "EV8IytH6CtE-"
      },
      "outputs": [],
      "source": [
        "import numpy as np"
      ]
    },
    {
      "cell_type": "code",
      "source": [
        "#You need to create a vector.\n",
        "\n",
        "vector_row = np.array([1, 2, 3])\n",
        "vector_row"
      ],
      "metadata": {
        "colab": {
          "base_uri": "https://localhost:8080/"
        },
        "id": "lcxcM8wrCx47",
        "outputId": "95b60b19-24c3-4b22-d77c-0bd109281bc2"
      },
      "execution_count": 3,
      "outputs": [
        {
          "output_type": "execute_result",
          "data": {
            "text/plain": [
              "array([1, 2, 3])"
            ]
          },
          "metadata": {},
          "execution_count": 3
        }
      ]
    },
    {
      "cell_type": "code",
      "source": [
        "vector_column = np.array([[1],\n",
        "                          [2],\n",
        "                          [3]])\n",
        "vector_column"
      ],
      "metadata": {
        "colab": {
          "base_uri": "https://localhost:8080/"
        },
        "id": "VOtJdUOCC5cl",
        "outputId": "ff833291-91b7-4d50-f390-56704165a6a4"
      },
      "execution_count": 4,
      "outputs": [
        {
          "output_type": "execute_result",
          "data": {
            "text/plain": [
              "array([[1],\n",
              "       [2],\n",
              "       [3]])"
            ]
          },
          "metadata": {},
          "execution_count": 4
        }
      ]
    },
    {
      "cell_type": "code",
      "source": [
        "#You need to create a matrix.\n",
        "\n",
        "matrix = np.array([[1,2],\n",
        "                   [3,4],\n",
        "                   [5,6]])\n",
        "matrix"
      ],
      "metadata": {
        "colab": {
          "base_uri": "https://localhost:8080/"
        },
        "id": "d8a93GN0DDDj",
        "outputId": "0a3baba0-b24a-440e-dedf-f324953dc0d4"
      },
      "execution_count": 5,
      "outputs": [
        {
          "output_type": "execute_result",
          "data": {
            "text/plain": [
              "array([[1, 2],\n",
              "       [3, 4],\n",
              "       [5, 6]])"
            ]
          },
          "metadata": {},
          "execution_count": 5
        }
      ]
    },
    {
      "cell_type": "code",
      "source": [
        "matrix_object = np.mat([[1,2],\n",
        "                        [3,4],\n",
        "                        [5,6]])\n",
        "matrix_object"
      ],
      "metadata": {
        "colab": {
          "base_uri": "https://localhost:8080/"
        },
        "id": "UZvHczrzDaZq",
        "outputId": "2d3714b8-3360-4dca-f67a-118c23211e6e"
      },
      "execution_count": 6,
      "outputs": [
        {
          "output_type": "execute_result",
          "data": {
            "text/plain": [
              "matrix([[1, 2],\n",
              "        [3, 4],\n",
              "        [5, 6]])"
            ]
          },
          "metadata": {},
          "execution_count": 6
        }
      ]
    },
    {
      "cell_type": "markdown",
      "source": [
        "- A sparse matrix is a matrix in which most elements are 0"
      ],
      "metadata": {
        "id": "17eNG1h9E-tx"
      }
    },
    {
      "cell_type": "code",
      "source": [
        "#Given data with very few nonzero values, you want to efficiently represent it.\n",
        "\n",
        "from scipy import sparse\n",
        "\n",
        "matrix = np.array([[0,0],\n",
        "                   [0,1],\n",
        "                   [3,0]])\n",
        "\n",
        "print(matrix)\n",
        "\n",
        "matrix_sparse = sparse.csr_matrix(matrix)  # compressed sparse row (CSR) matrices\n",
        "print(\"\\n\",matrix_sparse)"
      ],
      "metadata": {
        "colab": {
          "base_uri": "https://localhost:8080/"
        },
        "id": "myRFTdHBEBrT",
        "outputId": "430bfd49-1620-47dd-8c50-4b077f3fbbf7"
      },
      "execution_count": 7,
      "outputs": [
        {
          "output_type": "stream",
          "name": "stdout",
          "text": [
            "[[0 0]\n",
            " [0 1]\n",
            " [3 0]]\n",
            "\n",
            "   (1, 1)\t1\n",
            "  (2, 0)\t3\n"
          ]
        }
      ]
    },
    {
      "cell_type": "code",
      "source": [
        "#You need to preallocate arrays of a given size with some value.\n",
        "\n",
        "vector = np.zeros(shape = 5)\n",
        "vector"
      ],
      "metadata": {
        "colab": {
          "base_uri": "https://localhost:8080/"
        },
        "id": "JXHger13E__Q",
        "outputId": "722ca89f-e873-46b5-8381-09de68a6c91b"
      },
      "execution_count": 8,
      "outputs": [
        {
          "output_type": "execute_result",
          "data": {
            "text/plain": [
              "array([0., 0., 0., 0., 0.])"
            ]
          },
          "metadata": {},
          "execution_count": 8
        }
      ]
    },
    {
      "cell_type": "code",
      "source": [
        "matrix = np.full(shape=(3,3), fill_value=1)\n",
        "matrix"
      ],
      "metadata": {
        "colab": {
          "base_uri": "https://localhost:8080/"
        },
        "id": "cvA6f0xtGUAY",
        "outputId": "626fbd6f-5d04-4862-c0c5-7b9d21afb82f"
      },
      "execution_count": 9,
      "outputs": [
        {
          "output_type": "execute_result",
          "data": {
            "text/plain": [
              "array([[1, 1, 1],\n",
              "       [1, 1, 1],\n",
              "       [1, 1, 1]])"
            ]
          },
          "metadata": {},
          "execution_count": 9
        }
      ]
    },
    {
      "cell_type": "code",
      "source": [
        "#You need to select one or more elements in a vector or matrix.\n",
        "\n",
        "vector = np.array([1, 2, 3, 4, 5, 6])\n",
        "\n",
        "matrix = np.array([[1, 2, 3],\n",
        "                   [4, 5, 6],\n",
        "                   [7, 8, 9]])\n",
        "\n",
        "print(vector[2])\n",
        "print(matrix[1, 1])"
      ],
      "metadata": {
        "colab": {
          "base_uri": "https://localhost:8080/"
        },
        "id": "_uG24KHQGgIQ",
        "outputId": "8d843079-d5c9-41af-ed79-56b9b628ed5e"
      },
      "execution_count": 10,
      "outputs": [
        {
          "output_type": "stream",
          "name": "stdout",
          "text": [
            "3\n",
            "5\n"
          ]
        }
      ]
    },
    {
      "cell_type": "code",
      "source": [
        "vector[:]"
      ],
      "metadata": {
        "colab": {
          "base_uri": "https://localhost:8080/"
        },
        "id": "NjI9jxwPhs1q",
        "outputId": "db042198-8562-4e92-d18f-60b650eba27e"
      },
      "execution_count": 11,
      "outputs": [
        {
          "output_type": "execute_result",
          "data": {
            "text/plain": [
              "array([1, 2, 3, 4, 5, 6])"
            ]
          },
          "metadata": {},
          "execution_count": 11
        }
      ]
    },
    {
      "cell_type": "code",
      "source": [
        "vector[:3]"
      ],
      "metadata": {
        "colab": {
          "base_uri": "https://localhost:8080/"
        },
        "id": "EwPYBl4Lh24Z",
        "outputId": "4e1e683c-4dca-4b5d-8d4b-15d717d6e366"
      },
      "execution_count": 12,
      "outputs": [
        {
          "output_type": "execute_result",
          "data": {
            "text/plain": [
              "array([1, 2, 3])"
            ]
          },
          "metadata": {},
          "execution_count": 12
        }
      ]
    },
    {
      "cell_type": "code",
      "source": [
        "vector[3:]"
      ],
      "metadata": {
        "colab": {
          "base_uri": "https://localhost:8080/"
        },
        "id": "XRi6U3gbiDNf",
        "outputId": "1f9cbaa0-ed6e-44f2-db24-ac24fe1d2a66"
      },
      "execution_count": 13,
      "outputs": [
        {
          "output_type": "execute_result",
          "data": {
            "text/plain": [
              "array([4, 5, 6])"
            ]
          },
          "metadata": {},
          "execution_count": 13
        }
      ]
    },
    {
      "cell_type": "code",
      "source": [
        "vector[-1]"
      ],
      "metadata": {
        "colab": {
          "base_uri": "https://localhost:8080/"
        },
        "id": "0C3N0fSeiILo",
        "outputId": "6d5b5c7c-79bf-47bb-b83d-c489723cd5be"
      },
      "execution_count": 14,
      "outputs": [
        {
          "output_type": "execute_result",
          "data": {
            "text/plain": [
              "6"
            ]
          },
          "metadata": {},
          "execution_count": 14
        }
      ]
    },
    {
      "cell_type": "code",
      "source": [
        "#Reverse the vector\n",
        "vector[::-1]"
      ],
      "metadata": {
        "colab": {
          "base_uri": "https://localhost:8080/"
        },
        "id": "04BAPxTjiJ_A",
        "outputId": "4ee59ef0-7523-4099-bf55-28ba2ccbba86"
      },
      "execution_count": 15,
      "outputs": [
        {
          "output_type": "execute_result",
          "data": {
            "text/plain": [
              "array([6, 5, 4, 3, 2, 1])"
            ]
          },
          "metadata": {},
          "execution_count": 15
        }
      ]
    },
    {
      "cell_type": "code",
      "source": [
        "#first 2 rows, all columns\n",
        "\n",
        "matrix[:2, :]"
      ],
      "metadata": {
        "colab": {
          "base_uri": "https://localhost:8080/"
        },
        "id": "KE2M0Ss1iRJP",
        "outputId": "259b2ea5-1838-4bae-cacc-6c5f86aac08f"
      },
      "execution_count": 16,
      "outputs": [
        {
          "output_type": "execute_result",
          "data": {
            "text/plain": [
              "array([[1, 2, 3],\n",
              "       [4, 5, 6]])"
            ]
          },
          "metadata": {},
          "execution_count": 16
        }
      ]
    },
    {
      "cell_type": "code",
      "source": [
        "#all rows, 2nd column\n",
        "\n",
        "matrix[:, 1:2]"
      ],
      "metadata": {
        "colab": {
          "base_uri": "https://localhost:8080/"
        },
        "id": "ulv3_E_Viezv",
        "outputId": "d2ae9df5-e441-4a37-9d38-cdf8f6e20b75"
      },
      "execution_count": 17,
      "outputs": [
        {
          "output_type": "execute_result",
          "data": {
            "text/plain": [
              "array([[2],\n",
              "       [5],\n",
              "       [8]])"
            ]
          },
          "metadata": {},
          "execution_count": 17
        }
      ]
    },
    {
      "cell_type": "code",
      "source": [
        "#You want to describe the shape, size, and dimensions of a matrix.\n",
        "\n",
        "matrix = np.array([[1,2,3,4],\n",
        "                   [5,6,7,8],\n",
        "                   [9,10,11,12]])\n",
        "\n",
        "\n",
        "print(matrix.shape)\n",
        "print(matrix.size)\n",
        "print(matrix.ndim)"
      ],
      "metadata": {
        "colab": {
          "base_uri": "https://localhost:8080/"
        },
        "id": "fJLLRdUEipUn",
        "outputId": "8d52510c-cb67-4480-a4b4-484af8199da8"
      },
      "execution_count": 19,
      "outputs": [
        {
          "output_type": "stream",
          "name": "stdout",
          "text": [
            "(3, 4)\n",
            "12\n",
            "2\n"
          ]
        }
      ]
    },
    {
      "cell_type": "code",
      "source": [
        "#You want to apply some function to all elements in an array.\n",
        "\n",
        "matrix = np.array([[1,2,3],\n",
        "                   [4,5,6],\n",
        "                   [7,8,9]])\n",
        "\n",
        "add_100 = lambda i: i + 100\n",
        "\n",
        "vectorized_add_100 = np.vectorize(add_100)\n",
        "\n",
        "vectorized_add_100(matrix)"
      ],
      "metadata": {
        "colab": {
          "base_uri": "https://localhost:8080/"
        },
        "id": "khc5-nXWi8Ev",
        "outputId": "c3504741-677d-4220-85ee-de58e5a4ae25"
      },
      "execution_count": 20,
      "outputs": [
        {
          "output_type": "execute_result",
          "data": {
            "text/plain": [
              "array([[101, 102, 103],\n",
              "       [104, 105, 106],\n",
              "       [107, 108, 109]])"
            ]
          },
          "metadata": {},
          "execution_count": 20
        }
      ]
    },
    {
      "cell_type": "code",
      "source": [
        "matrix + 100"
      ],
      "metadata": {
        "colab": {
          "base_uri": "https://localhost:8080/"
        },
        "id": "by1CKcKSjvSv",
        "outputId": "25b824c3-6107-4b20-a7f5-b0d49ce0c6dd"
      },
      "execution_count": 21,
      "outputs": [
        {
          "output_type": "execute_result",
          "data": {
            "text/plain": [
              "array([[101, 102, 103],\n",
              "       [104, 105, 106],\n",
              "       [107, 108, 109]])"
            ]
          },
          "metadata": {},
          "execution_count": 21
        }
      ]
    },
    {
      "cell_type": "code",
      "source": [
        "#find the maximum or minimum value in an array.\n",
        "\n",
        "matrix = np.array([[1,2,3],\n",
        "                   [4,5,6],\n",
        "                   [7,8,9]])\n",
        "\n",
        "print(np.max(matrix))\n",
        "print(np.min(matrix))"
      ],
      "metadata": {
        "colab": {
          "base_uri": "https://localhost:8080/"
        },
        "id": "ukxXHyryj_pP",
        "outputId": "4b3d2abe-68a4-4bb4-b6aa-038abcbcc24e"
      },
      "execution_count": 23,
      "outputs": [
        {
          "output_type": "stream",
          "name": "stdout",
          "text": [
            "9\n",
            "1\n"
          ]
        }
      ]
    },
    {
      "cell_type": "code",
      "source": [
        "#maximum along each column\n",
        "\n",
        "np.max(matrix, axis=0)"
      ],
      "metadata": {
        "colab": {
          "base_uri": "https://localhost:8080/"
        },
        "id": "5Gg-GJcCkJHv",
        "outputId": "b7ffa6f5-fe5b-4e2a-92e6-88638c043271"
      },
      "execution_count": 24,
      "outputs": [
        {
          "output_type": "execute_result",
          "data": {
            "text/plain": [
              "array([7, 8, 9])"
            ]
          },
          "metadata": {},
          "execution_count": 24
        }
      ]
    },
    {
      "cell_type": "code",
      "source": [
        "#maximum along each row\n",
        "\n",
        "np.max(matrix, axis=1)"
      ],
      "metadata": {
        "colab": {
          "base_uri": "https://localhost:8080/"
        },
        "id": "F8BMv5edkdGJ",
        "outputId": "711198e7-6463-43e4-8457-8d5a2a26c271"
      },
      "execution_count": 25,
      "outputs": [
        {
          "output_type": "execute_result",
          "data": {
            "text/plain": [
              "array([3, 6, 9])"
            ]
          },
          "metadata": {},
          "execution_count": 25
        }
      ]
    },
    {
      "cell_type": "code",
      "source": [
        "#calculate some descriptive statistics about an array.\n",
        "\n",
        "matrix = np.array([[1,2,3],\n",
        "                   [4,5,6],\n",
        "                   [7,8,9]])\n",
        "\n",
        "np.mean(matrix)"
      ],
      "metadata": {
        "colab": {
          "base_uri": "https://localhost:8080/"
        },
        "id": "3GqfcSj4krjf",
        "outputId": "857deda7-13a3-4ff8-da15-242efcab416b"
      },
      "execution_count": 26,
      "outputs": [
        {
          "output_type": "execute_result",
          "data": {
            "text/plain": [
              "5.0"
            ]
          },
          "metadata": {},
          "execution_count": 26
        }
      ]
    },
    {
      "cell_type": "code",
      "source": [
        "np.var(matrix)"
      ],
      "metadata": {
        "colab": {
          "base_uri": "https://localhost:8080/"
        },
        "id": "TgNw9q6m7zgI",
        "outputId": "83c1ce86-10c6-4bd1-d62d-5d97eae06f49"
      },
      "execution_count": 27,
      "outputs": [
        {
          "output_type": "execute_result",
          "data": {
            "text/plain": [
              "6.666666666666667"
            ]
          },
          "metadata": {},
          "execution_count": 27
        }
      ]
    },
    {
      "cell_type": "code",
      "source": [
        "np.std(matrix)"
      ],
      "metadata": {
        "colab": {
          "base_uri": "https://localhost:8080/"
        },
        "id": "Y7hCexZO74JI",
        "outputId": "2c1b6dab-7480-4389-b4c7-eab8477c76e6"
      },
      "execution_count": 28,
      "outputs": [
        {
          "output_type": "execute_result",
          "data": {
            "text/plain": [
              "2.581988897471611"
            ]
          },
          "metadata": {},
          "execution_count": 28
        }
      ]
    },
    {
      "cell_type": "code",
      "source": [
        "np.mean(matrix, axis=0)"
      ],
      "metadata": {
        "colab": {
          "base_uri": "https://localhost:8080/"
        },
        "id": "0jYrSE-27_Fg",
        "outputId": "a7dce9e9-e17a-4ba7-bc01-f3e7d001df0d"
      },
      "execution_count": 29,
      "outputs": [
        {
          "output_type": "execute_result",
          "data": {
            "text/plain": [
              "array([4., 5., 6.])"
            ]
          },
          "metadata": {},
          "execution_count": 29
        }
      ]
    },
    {
      "cell_type": "code",
      "source": [
        "#change the shape (number of rows and columns) of an array without changing the element values.\n",
        "\n",
        "matrix = np.array([[1, 2, 3],\n",
        "                   [4, 5, 6],\n",
        "                   [7, 8, 9],\n",
        "                   [10, 11, 12]])\n",
        "\n",
        "matrix.reshape(2, 6)"
      ],
      "metadata": {
        "colab": {
          "base_uri": "https://localhost:8080/"
        },
        "id": "VzRqFYYY8D_4",
        "outputId": "00a32af7-881a-4b06-8c5c-cb51bbc559ed"
      },
      "execution_count": 30,
      "outputs": [
        {
          "output_type": "execute_result",
          "data": {
            "text/plain": [
              "array([[ 1,  2,  3,  4,  5,  6],\n",
              "       [ 7,  8,  9, 10, 11, 12]])"
            ]
          },
          "metadata": {},
          "execution_count": 30
        }
      ]
    },
    {
      "cell_type": "code",
      "source": [
        "matrix.reshape(1, -1)"
      ],
      "metadata": {
        "colab": {
          "base_uri": "https://localhost:8080/"
        },
        "id": "7XWnsTCM8cM_",
        "outputId": "57fef196-e77a-457c-b364-7bda2ee7e720"
      },
      "execution_count": 31,
      "outputs": [
        {
          "output_type": "execute_result",
          "data": {
            "text/plain": [
              "array([[ 1,  2,  3,  4,  5,  6,  7,  8,  9, 10, 11, 12]])"
            ]
          },
          "metadata": {},
          "execution_count": 31
        }
      ]
    },
    {
      "cell_type": "code",
      "source": [
        "matrix.reshape(12)"
      ],
      "metadata": {
        "colab": {
          "base_uri": "https://localhost:8080/"
        },
        "id": "lQqRy3Oi8uRI",
        "outputId": "5c14c8c1-d0c0-4844-f082-4f26c8dbad29"
      },
      "execution_count": 34,
      "outputs": [
        {
          "output_type": "execute_result",
          "data": {
            "text/plain": [
              "array([ 1,  2,  3,  4,  5,  6,  7,  8,  9, 10, 11, 12])"
            ]
          },
          "metadata": {},
          "execution_count": 34
        }
      ]
    },
    {
      "cell_type": "code",
      "source": [
        "#transpose a vector or matrix.\n",
        "\n",
        "matrix = np.array([[1, 2, 3],\n",
        "                   [4, 5, 6],\n",
        "                   [7, 8, 9]])\n",
        "\n",
        "matrix.T"
      ],
      "metadata": {
        "colab": {
          "base_uri": "https://localhost:8080/"
        },
        "id": "HQiIny3087eI",
        "outputId": "81ea38b7-abfc-4126-9473-26de2d24edfb"
      },
      "execution_count": 35,
      "outputs": [
        {
          "output_type": "execute_result",
          "data": {
            "text/plain": [
              "array([[1, 4, 7],\n",
              "       [2, 5, 8],\n",
              "       [3, 6, 9]])"
            ]
          },
          "metadata": {},
          "execution_count": 35
        }
      ]
    },
    {
      "cell_type": "code",
      "source": [
        "#a vector can’t be transposed because it’s just a collection of values\n",
        "np.array([1, 2, 3, 4, 5, 6]).T"
      ],
      "metadata": {
        "colab": {
          "base_uri": "https://localhost:8080/"
        },
        "id": "ePFCx3US9I3_",
        "outputId": "d1548610-aa22-4e6f-dd15-5181d55ff784"
      },
      "execution_count": 36,
      "outputs": [
        {
          "output_type": "execute_result",
          "data": {
            "text/plain": [
              "array([1, 2, 3, 4, 5, 6])"
            ]
          },
          "metadata": {},
          "execution_count": 36
        }
      ]
    },
    {
      "cell_type": "code",
      "source": [
        "np.array([[1, 2, 3, 4, 5, 6]]).T"
      ],
      "metadata": {
        "colab": {
          "base_uri": "https://localhost:8080/"
        },
        "id": "BGWNhOUL9c6X",
        "outputId": "62352f9f-c130-490c-fec8-725a053c715e"
      },
      "execution_count": 38,
      "outputs": [
        {
          "output_type": "execute_result",
          "data": {
            "text/plain": [
              "array([[1],\n",
              "       [2],\n",
              "       [3],\n",
              "       [4],\n",
              "       [5],\n",
              "       [6]])"
            ]
          },
          "metadata": {},
          "execution_count": 38
        }
      ]
    },
    {
      "cell_type": "code",
      "source": [
        "# transform a matrix into a one-dimensional array\n",
        "\n",
        "matrix = np.array([[1, 2, 3],\n",
        "                   [4, 5, 6],\n",
        "                   [7, 8, 9]])\n",
        "\n",
        "matrix.flatten()"
      ],
      "metadata": {
        "colab": {
          "base_uri": "https://localhost:8080/"
        },
        "id": "bns2vwii9pAX",
        "outputId": "194c38ee-f9a2-4f95-e8d4-332e4b458cb1"
      },
      "execution_count": 39,
      "outputs": [
        {
          "output_type": "execute_result",
          "data": {
            "text/plain": [
              "array([1, 2, 3, 4, 5, 6, 7, 8, 9])"
            ]
          },
          "metadata": {},
          "execution_count": 39
        }
      ]
    },
    {
      "cell_type": "code",
      "source": [
        "matrix.reshape(1, -1)"
      ],
      "metadata": {
        "colab": {
          "base_uri": "https://localhost:8080/"
        },
        "id": "Hh4QB-ov93aQ",
        "outputId": "5a6e77e1-82be-4643-9238-8ef437f12786"
      },
      "execution_count": 40,
      "outputs": [
        {
          "output_type": "execute_result",
          "data": {
            "text/plain": [
              "array([[1, 2, 3, 4, 5, 6, 7, 8, 9]])"
            ]
          },
          "metadata": {},
          "execution_count": 40
        }
      ]
    },
    {
      "cell_type": "markdown",
      "source": [
        "-  Unlike flatten, which returns a copy of the original array, ravel operates on the original object itself and is therefore slightly faster. It also lets us flatten lists of arrays, which we can’t do with the flatten method."
      ],
      "metadata": {
        "id": "nSRVuRX1-piQ"
      }
    },
    {
      "cell_type": "code",
      "source": [
        "matrix_A = np.array([[1, 2],\n",
        "                     [3, 4]])\n",
        "matrix_B = np.array([[5, 6],\n",
        "                     [7, 8]])\n",
        "matrix_C = [matrix_A, matrix_B]\n",
        "\n",
        "np.ravel(matrix_C)"
      ],
      "metadata": {
        "colab": {
          "base_uri": "https://localhost:8080/"
        },
        "id": "wx7smh7N9-lH",
        "outputId": "f295a4bd-7be2-408a-c5e8-c62cee8090e3"
      },
      "execution_count": 41,
      "outputs": [
        {
          "output_type": "execute_result",
          "data": {
            "text/plain": [
              "array([1, 2, 3, 4, 5, 6, 7, 8])"
            ]
          },
          "metadata": {},
          "execution_count": 41
        }
      ]
    },
    {
      "cell_type": "markdown",
      "source": [
        "- The maximum number of linearly independent rows in a matrix A is called the row rank of A, and the maximum number of linarly independent columns in A is called the column rank of A"
      ],
      "metadata": {
        "id": "r2YnVY-dBkQw"
      }
    },
    {
      "cell_type": "code",
      "source": [
        "#know the rank(The rank of a matrix is the dimensions of the vector\n",
        "#               space spanned by its columns or rows.) of a matrix\n",
        "\n",
        "matrix = np.array([[1, 1, 1],\n",
        "                   [1, 1, 10],\n",
        "                   [1, 1, 15]])\n",
        "\n",
        "np.linalg.matrix_rank(matrix)"
      ],
      "metadata": {
        "colab": {
          "base_uri": "https://localhost:8080/"
        },
        "id": "Op8QVzCT-kif",
        "outputId": "db50a0b0-30dc-41d9-c424-e2c456e142c0"
      },
      "execution_count": 42,
      "outputs": [
        {
          "output_type": "execute_result",
          "data": {
            "text/plain": [
              "2"
            ]
          },
          "metadata": {},
          "execution_count": 42
        }
      ]
    },
    {
      "cell_type": "code",
      "source": [
        "#get the diagonal elements of a matrix.\n",
        "\n",
        "matrix.diagonal()"
      ],
      "metadata": {
        "colab": {
          "base_uri": "https://localhost:8080/"
        },
        "id": "-QjCoG-B-ufm",
        "outputId": "270176f7-c7b3-4a73-ec5d-b1e7fc9bbb4f"
      },
      "execution_count": 43,
      "outputs": [
        {
          "output_type": "execute_result",
          "data": {
            "text/plain": [
              "array([ 1,  1, 15])"
            ]
          },
          "metadata": {},
          "execution_count": 43
        }
      ]
    },
    {
      "cell_type": "code",
      "source": [
        "#diagonal one above the main diagonal\n",
        "matrix.diagonal(offset=1)"
      ],
      "metadata": {
        "colab": {
          "base_uri": "https://localhost:8080/"
        },
        "id": "wtfCxo69B2F2",
        "outputId": "82861fff-6be9-40aa-a9aa-988e7bf66a69"
      },
      "execution_count": 44,
      "outputs": [
        {
          "output_type": "execute_result",
          "data": {
            "text/plain": [
              "array([ 1, 10])"
            ]
          },
          "metadata": {},
          "execution_count": 44
        }
      ]
    },
    {
      "cell_type": "code",
      "source": [
        "# diagonal one below the main diagonal\n",
        "matrix.diagonal(offset=-1)"
      ],
      "metadata": {
        "colab": {
          "base_uri": "https://localhost:8080/"
        },
        "id": "gPXoJY7rB9gH",
        "outputId": "e6bc89eb-fe06-4f78-c34d-e09a144afed4"
      },
      "execution_count": 45,
      "outputs": [
        {
          "output_type": "execute_result",
          "data": {
            "text/plain": [
              "array([1, 1])"
            ]
          },
          "metadata": {},
          "execution_count": 45
        }
      ]
    },
    {
      "cell_type": "code",
      "source": [
        "#calculate the trace of a matrix.(The trace of a matrix is the sum of the diagonal elements )\n",
        "\n",
        "matrix.trace()"
      ],
      "metadata": {
        "colab": {
          "base_uri": "https://localhost:8080/"
        },
        "id": "W-Iz_uzBCCvZ",
        "outputId": "ab4fcf21-7bdc-4012-8f87-f66192319a2d"
      },
      "execution_count": 47,
      "outputs": [
        {
          "output_type": "execute_result",
          "data": {
            "text/plain": [
              "17"
            ]
          },
          "metadata": {},
          "execution_count": 47
        }
      ]
    },
    {
      "cell_type": "code",
      "source": [
        "#calculate the dot product of two vectors.\n",
        "\n",
        "vector_A = np.array([1, 2, 3])\n",
        "vector_B = np.array([4, 5, 6])\n",
        "\n",
        "np.dot(vector_A, vector_B)"
      ],
      "metadata": {
        "colab": {
          "base_uri": "https://localhost:8080/"
        },
        "id": "cdDbS1AqCSF4",
        "outputId": "374e3c6e-f487-46fc-ba03-9d29a8e5827e"
      },
      "execution_count": 48,
      "outputs": [
        {
          "output_type": "execute_result",
          "data": {
            "text/plain": [
              "32"
            ]
          },
          "metadata": {},
          "execution_count": 48
        }
      ]
    },
    {
      "cell_type": "code",
      "source": [
        "vector_A @ vector_B"
      ],
      "metadata": {
        "colab": {
          "base_uri": "https://localhost:8080/"
        },
        "id": "4B1ZwaAXCqie",
        "outputId": "4b17be7d-846c-436c-cbc0-0a3b5a75000b"
      },
      "execution_count": 49,
      "outputs": [
        {
          "output_type": "execute_result",
          "data": {
            "text/plain": [
              "32"
            ]
          },
          "metadata": {},
          "execution_count": 49
        }
      ]
    },
    {
      "cell_type": "code",
      "source": [
        "#add or subtract two matrices\n",
        "\n",
        "matrix_a = np.array([[1, 1, 1],\n",
        "                     [1, 1, 1],\n",
        "                     [1, 1, 2]])\n",
        "\n",
        "matrix_b = np.array([[1, 3, 1],\n",
        "                     [1, 3, 1],\n",
        "                     [1, 3, 8]])\n",
        "\n",
        "np.add(matrix_a, matrix_b)"
      ],
      "metadata": {
        "colab": {
          "base_uri": "https://localhost:8080/"
        },
        "id": "TdIqrHTwC2s_",
        "outputId": "44c0e121-4784-4e63-a26e-af888c8f6830"
      },
      "execution_count": 50,
      "outputs": [
        {
          "output_type": "execute_result",
          "data": {
            "text/plain": [
              "array([[ 2,  4,  2],\n",
              "       [ 2,  4,  2],\n",
              "       [ 2,  4, 10]])"
            ]
          },
          "metadata": {},
          "execution_count": 50
        }
      ]
    },
    {
      "cell_type": "code",
      "source": [
        "np.subtract(matrix_a, matrix_b)"
      ],
      "metadata": {
        "colab": {
          "base_uri": "https://localhost:8080/"
        },
        "id": "F5Ad90qvDDPO",
        "outputId": "cb98640c-aac8-40e3-c4e4-0210bafdfc2f"
      },
      "execution_count": 53,
      "outputs": [
        {
          "output_type": "execute_result",
          "data": {
            "text/plain": [
              "array([[ 0, -2,  0],\n",
              "       [ 0, -2,  0],\n",
              "       [ 0, -2, -6]])"
            ]
          },
          "metadata": {},
          "execution_count": 53
        }
      ]
    },
    {
      "cell_type": "code",
      "source": [
        "matrix_a + matrix_b"
      ],
      "metadata": {
        "colab": {
          "base_uri": "https://localhost:8080/"
        },
        "id": "McOFdksWDM1l",
        "outputId": "ad0e50d9-d0b7-4eeb-d336-22e103cf9be2"
      },
      "execution_count": 54,
      "outputs": [
        {
          "output_type": "execute_result",
          "data": {
            "text/plain": [
              "array([[ 2,  4,  2],\n",
              "       [ 2,  4,  2],\n",
              "       [ 2,  4, 10]])"
            ]
          },
          "metadata": {},
          "execution_count": 54
        }
      ]
    },
    {
      "cell_type": "code",
      "source": [
        "matrix_a - matrix_b"
      ],
      "metadata": {
        "colab": {
          "base_uri": "https://localhost:8080/"
        },
        "id": "WRmVlvQ8DRLd",
        "outputId": "a8c54b83-e229-4ee0-8d54-21fc783aeae7"
      },
      "execution_count": 55,
      "outputs": [
        {
          "output_type": "execute_result",
          "data": {
            "text/plain": [
              "array([[ 0, -2,  0],\n",
              "       [ 0, -2,  0],\n",
              "       [ 0, -2, -6]])"
            ]
          },
          "metadata": {},
          "execution_count": 55
        }
      ]
    },
    {
      "cell_type": "code",
      "source": [
        "#multiply two matrices.\n",
        "\n",
        "np.dot(matrix_a, matrix_b)"
      ],
      "metadata": {
        "colab": {
          "base_uri": "https://localhost:8080/"
        },
        "id": "ehjZRCTJDVkm",
        "outputId": "a60cfa95-e720-497f-b6cd-ae33dbfbccc3"
      },
      "execution_count": 56,
      "outputs": [
        {
          "output_type": "execute_result",
          "data": {
            "text/plain": [
              "array([[ 3,  9, 10],\n",
              "       [ 3,  9, 10],\n",
              "       [ 4, 12, 18]])"
            ]
          },
          "metadata": {},
          "execution_count": 56
        }
      ]
    },
    {
      "cell_type": "code",
      "source": [
        "matrix_a @ matrix_b"
      ],
      "metadata": {
        "colab": {
          "base_uri": "https://localhost:8080/"
        },
        "id": "6w_MIcExDb_-",
        "outputId": "37e499a5-10dc-4a2b-9fb0-b89f89a5e759"
      },
      "execution_count": 57,
      "outputs": [
        {
          "output_type": "execute_result",
          "data": {
            "text/plain": [
              "array([[ 3,  9, 10],\n",
              "       [ 3,  9, 10],\n",
              "       [ 4, 12, 18]])"
            ]
          },
          "metadata": {},
          "execution_count": 57
        }
      ]
    },
    {
      "cell_type": "code",
      "source": [
        "#element wise multiplication\n",
        "\n",
        "matrix_a * matrix_b"
      ],
      "metadata": {
        "colab": {
          "base_uri": "https://localhost:8080/"
        },
        "id": "SUqSQB9XDicm",
        "outputId": "925671b5-186d-4d63-f827-ce0380fa52f5"
      },
      "execution_count": 58,
      "outputs": [
        {
          "output_type": "execute_result",
          "data": {
            "text/plain": [
              "array([[ 1,  3,  1],\n",
              "       [ 1,  3,  1],\n",
              "       [ 1,  3, 16]])"
            ]
          },
          "metadata": {},
          "execution_count": 58
        }
      ]
    },
    {
      "cell_type": "code",
      "source": [
        "# calculate the inverse of a square matrix.\n",
        "\n",
        "matrix = np.array([[1, 4],\n",
        "                   [2, 5]])\n",
        "\n",
        "np.linalg.inv(matrix)"
      ],
      "metadata": {
        "colab": {
          "base_uri": "https://localhost:8080/"
        },
        "id": "mBWrn0mlDq6d",
        "outputId": "fca3d077-39ed-44f6-d6b0-28c209e31221"
      },
      "execution_count": 61,
      "outputs": [
        {
          "output_type": "execute_result",
          "data": {
            "text/plain": [
              "array([[-1.66666667,  1.33333333],\n",
              "       [ 0.66666667, -0.33333333]])"
            ]
          },
          "metadata": {},
          "execution_count": 61
        }
      ]
    },
    {
      "cell_type": "code",
      "source": [
        "matrix @ np.linalg.inv(matrix)"
      ],
      "metadata": {
        "colab": {
          "base_uri": "https://localhost:8080/"
        },
        "id": "2y6vLCbrEK0m",
        "outputId": "ebb22259-7dce-4481-f08c-e2562b535d4f"
      },
      "execution_count": 62,
      "outputs": [
        {
          "output_type": "execute_result",
          "data": {
            "text/plain": [
              "array([[1.00000000e+00, 0.00000000e+00],\n",
              "       [1.11022302e-16, 1.00000000e+00]])"
            ]
          },
          "metadata": {},
          "execution_count": 62
        }
      ]
    },
    {
      "cell_type": "code",
      "source": [
        "#generate pseudorandom values.\n",
        "\n",
        "np.random.seed(42)\n",
        "\n",
        "## Generate three random floats between 0.0 and 1.0\n",
        "np.random.random(3)"
      ],
      "metadata": {
        "colab": {
          "base_uri": "https://localhost:8080/"
        },
        "id": "VFHhGlMgEY8e",
        "outputId": "9106e45c-cfde-4547-a4e6-c2d9386026fb"
      },
      "execution_count": 63,
      "outputs": [
        {
          "output_type": "execute_result",
          "data": {
            "text/plain": [
              "array([0.37454012, 0.95071431, 0.73199394])"
            ]
          },
          "metadata": {},
          "execution_count": 63
        }
      ]
    },
    {
      "cell_type": "code",
      "source": [
        "np.random.randint(0, 11, 3)"
      ],
      "metadata": {
        "colab": {
          "base_uri": "https://localhost:8080/"
        },
        "id": "ag9HZpiKEkrV",
        "outputId": "be47cd32-14c4-4675-fe95-6b47a896ade8"
      },
      "execution_count": 64,
      "outputs": [
        {
          "output_type": "execute_result",
          "data": {
            "text/plain": [
              "array([4, 6, 9])"
            ]
          },
          "metadata": {},
          "execution_count": 64
        }
      ]
    },
    {
      "cell_type": "code",
      "source": [
        "# Draw three numbers from a normal distribution with mean 0.0\n",
        "# and standard deviation of 1.0\n",
        "\n",
        "np.random.normal(0.0, 1.0, 3)"
      ],
      "metadata": {
        "colab": {
          "base_uri": "https://localhost:8080/"
        },
        "id": "wwq4QAD4E4f9",
        "outputId": "c4fb67fd-7e07-46bb-dc8c-0d9b6072e7dd"
      },
      "execution_count": 65,
      "outputs": [
        {
          "output_type": "execute_result",
          "data": {
            "text/plain": [
              "array([ 0.27904129,  1.01051528, -0.58087813])"
            ]
          },
          "metadata": {},
          "execution_count": 65
        }
      ]
    },
    {
      "cell_type": "code",
      "source": [
        "np.random.uniform(1.0, 2.0, 3)"
      ],
      "metadata": {
        "colab": {
          "base_uri": "https://localhost:8080/"
        },
        "id": "JsIDGYGSE_4u",
        "outputId": "3e41b85c-c9e0-45e9-e6f2-ef1a4cda1cb7"
      },
      "execution_count": 66,
      "outputs": [
        {
          "output_type": "execute_result",
          "data": {
            "text/plain": [
              "array([1.18340451, 1.30424224, 1.52475643])"
            ]
          },
          "metadata": {},
          "execution_count": 66
        }
      ]
    }
  ]
}