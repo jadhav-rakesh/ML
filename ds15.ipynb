{
  "nbformat": 4,
  "nbformat_minor": 0,
  "metadata": {
    "colab": {
      "provenance": [],
      "authorship_tag": "ABX9TyP5YrUoTetLSsdIbHCAhPWe",
      "include_colab_link": true
    },
    "kernelspec": {
      "name": "python3",
      "display_name": "Python 3"
    },
    "language_info": {
      "name": "python"
    }
  },
  "cells": [
    {
      "cell_type": "markdown",
      "metadata": {
        "id": "view-in-github",
        "colab_type": "text"
      },
      "source": [
        "<a href=\"https://colab.research.google.com/github/jadhav-rakesh/ML/blob/main/ds15.ipynb\" target=\"_parent\"><img src=\"https://colab.research.google.com/assets/colab-badge.svg\" alt=\"Open In Colab\"/></a>"
      ]
    },
    {
      "cell_type": "markdown",
      "source": [
        "#K-Nearest Neighbors"
      ],
      "metadata": {
        "id": "h_wEFAAilDlx"
      }
    },
    {
      "cell_type": "code",
      "execution_count": 2,
      "metadata": {
        "id": "jW6KJWm2dS88"
      },
      "outputs": [],
      "source": [
        "import numpy as np\n",
        "import pandas as pd"
      ]
    },
    {
      "cell_type": "markdown",
      "source": [
        "#Finding an Observation’s Nearest Neighbors"
      ],
      "metadata": {
        "id": "y03aOgKUlu8l"
      }
    },
    {
      "cell_type": "code",
      "source": [
        "from sklearn import datasets\n",
        "from sklearn.neighbors import NearestNeighbors\n",
        "from sklearn.preprocessing import StandardScaler\n",
        "\n",
        "iris = datasets.load_iris()\n",
        "\n",
        "features = iris.data\n",
        "\n",
        "standardizer = StandardScaler()\n",
        "\n",
        "features_standarized = standardizer.fit_transform(features)\n",
        "\n",
        "nearest_neighbours = NearestNeighbors(n_neighbors=2).fit(features_standarized)\n",
        "\n",
        "new_observation = [1, 1, 1, 1]\n",
        "\n",
        "distance, indices = nearest_neighbours.kneighbors([new_observation])\n",
        "\n",
        "features_standarized[indices]\n"
      ],
      "metadata": {
        "colab": {
          "base_uri": "https://localhost:8080/"
        },
        "id": "L3j-HWfglhX6",
        "outputId": "61d2fc47-2022-4f6f-82f7-2ef60156eaec"
      },
      "execution_count": 1,
      "outputs": [
        {
          "output_type": "execute_result",
          "data": {
            "text/plain": [
              "array([[[1.03800476, 0.55861082, 1.10378283, 1.18556721],\n",
              "        [0.79566902, 0.32841405, 0.76275827, 1.05393502]]])"
            ]
          },
          "metadata": {},
          "execution_count": 1
        }
      ]
    },
    {
      "cell_type": "code",
      "source": [
        "nearestneighbors_euclidean = NearestNeighbors(n_neighbors=2,\n",
        "                                              metric=\"euclidean\").fit(features_standarized)\n"
      ],
      "metadata": {
        "id": "0JRnGWdXn0ku"
      },
      "execution_count": 4,
      "outputs": []
    },
    {
      "cell_type": "code",
      "source": [
        "distance"
      ],
      "metadata": {
        "colab": {
          "base_uri": "https://localhost:8080/"
        },
        "id": "FsZf4xSIoTNJ",
        "outputId": "d96583cf-5141-44ca-dec5-a6b75ce91068"
      },
      "execution_count": 5,
      "outputs": [
        {
          "output_type": "execute_result",
          "data": {
            "text/plain": [
              "array([[0.49140089, 0.74294782]])"
            ]
          },
          "metadata": {},
          "execution_count": 5
        }
      ]
    },
    {
      "cell_type": "code",
      "source": [
        "indices"
      ],
      "metadata": {
        "colab": {
          "base_uri": "https://localhost:8080/"
        },
        "id": "Uu_Ax5zJO3f4",
        "outputId": "2924519d-f2d1-4fb1-f048-2ad0259aeed2"
      },
      "execution_count": 3,
      "outputs": [
        {
          "output_type": "execute_result",
          "data": {
            "text/plain": [
              "array([[124, 110]])"
            ]
          },
          "metadata": {},
          "execution_count": 3
        }
      ]
    },
    {
      "cell_type": "code",
      "source": [
        "nearest_neighbours_euclidean = NearestNeighbors(n_neighbors=3,\n",
        "                                                metric=\"euclidean\").fit(features_standarized)\n",
        "\n",
        "nearest_neighbours_with_self = nearest_neighbours_euclidean.kneighbors_graph(features_standarized).toarray()\n",
        "\n",
        "for i, x in enumerate(nearest_neighbours_with_self):\n",
        "    x[i] = 0\n",
        "\n",
        "nearest_neighbours_with_self[0]"
      ],
      "metadata": {
        "colab": {
          "base_uri": "https://localhost:8080/"
        },
        "id": "PbvYTHACQbwD",
        "outputId": "6a1db5f9-7696-4743-ef87-841e929d140a"
      },
      "execution_count": 13,
      "outputs": [
        {
          "output_type": "execute_result",
          "data": {
            "text/plain": [
              "array([0., 0., 0., 0., 0., 0., 0., 0., 0., 0., 0., 0., 0., 0., 0., 0., 0.,\n",
              "       1., 0., 0., 0., 0., 0., 0., 0., 0., 0., 1., 0., 0., 0., 0., 0., 0.,\n",
              "       0., 0., 0., 0., 0., 0., 0., 0., 0., 0., 0., 0., 0., 0., 0., 0., 0.,\n",
              "       0., 0., 0., 0., 0., 0., 0., 0., 0., 0., 0., 0., 0., 0., 0., 0., 0.,\n",
              "       0., 0., 0., 0., 0., 0., 0., 0., 0., 0., 0., 0., 0., 0., 0., 0., 0.,\n",
              "       0., 0., 0., 0., 0., 0., 0., 0., 0., 0., 0., 0., 0., 0., 0., 0., 0.,\n",
              "       0., 0., 0., 0., 0., 0., 0., 0., 0., 0., 0., 0., 0., 0., 0., 0., 0.,\n",
              "       0., 0., 0., 0., 0., 0., 0., 0., 0., 0., 0., 0., 0., 0., 0., 0., 0.,\n",
              "       0., 0., 0., 0., 0., 0., 0., 0., 0., 0., 0., 0., 0., 0.])"
            ]
          },
          "metadata": {},
          "execution_count": 13
        }
      ]
    },
    {
      "cell_type": "markdown",
      "source": [
        "#Creating a K-Nearest Neighbors Classifier"
      ],
      "metadata": {
        "id": "kuAVCPloR6p0"
      }
    },
    {
      "cell_type": "code",
      "source": [
        "from sklearn.neighbors import KNeighborsClassifier\n",
        "from sklearn.preprocessing import StandardScaler\n",
        "from sklearn import datasets\n",
        "\n",
        "iris = datasets.load_iris()\n",
        "\n",
        "X, y = iris.data, iris.target\n",
        "\n",
        "standardizer = StandardScaler()\n",
        "\n",
        "X_std = standardizer.fit_transform(X)\n",
        "\n",
        "knn = KNeighborsClassifier(n_neighbors=5, n_jobs=-1).fit(X_std, y)\n",
        "\n",
        "new_observation = [[0.75, 0.75, 0.75, 0.75],\n",
        "                   [1, 1, 1, 1]]\n",
        "\n",
        "knn.predict(new_observation)"
      ],
      "metadata": {
        "colab": {
          "base_uri": "https://localhost:8080/"
        },
        "id": "NCz9tJYzRlVt",
        "outputId": "17314815-780a-4474-a1e0-ffbfb2a05642"
      },
      "execution_count": 14,
      "outputs": [
        {
          "output_type": "execute_result",
          "data": {
            "text/plain": [
              "array([1, 2])"
            ]
          },
          "metadata": {},
          "execution_count": 14
        }
      ]
    },
    {
      "cell_type": "code",
      "source": [
        "knn.predict_proba(new_observation)"
      ],
      "metadata": {
        "colab": {
          "base_uri": "https://localhost:8080/"
        },
        "id": "w5NZP8k_TS1B",
        "outputId": "72fa2763-1f90-4117-fc6b-97a38be2804b"
      },
      "execution_count": 15,
      "outputs": [
        {
          "output_type": "execute_result",
          "data": {
            "text/plain": [
              "array([[0. , 0.6, 0.4],\n",
              "       [0. , 0. , 1. ]])"
            ]
          },
          "metadata": {},
          "execution_count": 15
        }
      ]
    },
    {
      "cell_type": "markdown",
      "source": [
        "#Identifying the Best Neighborhood Size"
      ],
      "metadata": {
        "id": "x4e_UT0dT9rG"
      }
    },
    {
      "cell_type": "code",
      "source": [
        "from sklearn.neighbors import KNeighborsClassifier\n",
        "from sklearn import datasets\n",
        "from sklearn.preprocessing import StandardScaler\n",
        "from sklearn.pipeline import Pipeline, FeatureUnion\n",
        "from sklearn.model_selection import GridSearchCV\n",
        "\n",
        "iris = datasets.load_iris()\n",
        "\n",
        "features, target = iris.data, iris.target\n",
        "\n",
        "standardizer = StandardScaler()\n",
        "\n",
        "knn = KNeighborsClassifier(n_neighbors=5, n_jobs=-1)\n",
        "\n",
        "pipe = Pipeline([(\"standardizer\", standardizer), (\"knn\", knn)])\n",
        "\n",
        "search_space = [{\"knn__n_neighbors\": [1, 2, 3, 4, 5, 6, 7, 8, 9, 10]}]\n",
        "\n",
        "classifier = GridSearchCV(pipe, search_space, cv=5, verbose=0).fit(features_standarized, target)\n"
      ],
      "metadata": {
        "id": "f31HVkD1T_F4"
      },
      "execution_count": 17,
      "outputs": []
    },
    {
      "cell_type": "code",
      "source": [
        "classifier.best_estimator_.get_params()[\"knn__n_neighbors\"]"
      ],
      "metadata": {
        "colab": {
          "base_uri": "https://localhost:8080/"
        },
        "id": "T6dWNrYBVgY9",
        "outputId": "d239faa0-59ad-4d3e-d0c8-88e08e72f31c"
      },
      "execution_count": 18,
      "outputs": [
        {
          "output_type": "execute_result",
          "data": {
            "text/plain": [
              "6"
            ]
          },
          "metadata": {},
          "execution_count": 18
        }
      ]
    },
    {
      "cell_type": "markdown",
      "source": [
        "#Creating a Radius-Based Nearest Neighbors Classifier"
      ],
      "metadata": {
        "id": "DKMcuMIdVraU"
      }
    },
    {
      "cell_type": "code",
      "source": [
        "from sklearn.neighbors import RadiusNeighborsClassifier\n",
        "from sklearn.preprocessing import StandardScaler\n",
        "from sklearn import datasets\n",
        "\n",
        "iris = datasets.load_iris()\n",
        "\n",
        "features, target = iris.data, iris.target\n",
        "\n",
        "standardizer = StandardScaler()\n",
        "\n",
        "features_standarized = standardizer.fit_transform(features)\n",
        "\n",
        "rnn = RadiusNeighborsClassifier(radius=.5, n_jobs=-1).fit(features_standarized, target)\n",
        "\n",
        "new_observation=[[1, 1, 1, 1]]\n",
        "\n",
        "rnn.predict(new_observation)"
      ],
      "metadata": {
        "colab": {
          "base_uri": "https://localhost:8080/"
        },
        "id": "KpTqtU5BVsq5",
        "outputId": "b065f853-b875-4dac-b580-2c71bf56b275"
      },
      "execution_count": 19,
      "outputs": [
        {
          "output_type": "execute_result",
          "data": {
            "text/plain": [
              "array([2])"
            ]
          },
          "metadata": {},
          "execution_count": 19
        }
      ]
    },
    {
      "cell_type": "markdown",
      "source": [
        "#Finding Approximate Nearest Neighbors"
      ],
      "metadata": {
        "id": "Sp_cPT9hWvkH"
      }
    },
    {
      "cell_type": "code",
      "source": [
        "!pip install faiss-cpu"
      ],
      "metadata": {
        "colab": {
          "base_uri": "https://localhost:8080/"
        },
        "id": "OWRGoQCTW5xP",
        "outputId": "5b704c58-7a2a-411e-f3e5-be97928328e9"
      },
      "execution_count": 24,
      "outputs": [
        {
          "output_type": "stream",
          "name": "stdout",
          "text": [
            "Collecting faiss-cpu\n",
            "  Downloading faiss_cpu-1.10.0-cp311-cp311-manylinux_2_28_x86_64.whl.metadata (4.4 kB)\n",
            "Requirement already satisfied: numpy<3.0,>=1.25.0 in /usr/local/lib/python3.11/dist-packages (from faiss-cpu) (1.26.4)\n",
            "Requirement already satisfied: packaging in /usr/local/lib/python3.11/dist-packages (from faiss-cpu) (24.2)\n",
            "Downloading faiss_cpu-1.10.0-cp311-cp311-manylinux_2_28_x86_64.whl (30.7 MB)\n",
            "\u001b[2K   \u001b[90m━━━━━━━━━━━━━━━━━━━━━━━━━━━━━━━━━━━━━━━━\u001b[0m \u001b[32m30.7/30.7 MB\u001b[0m \u001b[31m23.8 MB/s\u001b[0m eta \u001b[36m0:00:00\u001b[0m\n",
            "\u001b[?25hInstalling collected packages: faiss-cpu\n",
            "Successfully installed faiss-cpu-1.10.0\n"
          ]
        }
      ]
    },
    {
      "cell_type": "code",
      "source": [
        "import faiss\n",
        "from sklearn import datasets\n",
        "from sklearn.neighbors import NearestNeighbors\n",
        "from sklearn.preprocessing import StandardScaler\n",
        "\n",
        "iris = datasets.load_iris()\n",
        "\n",
        "features, target = iris.data, iris.target\n",
        "\n",
        "standardizer = StandardScaler()\n",
        "\n",
        "features_standarized = standardizer.fit_transform(features)\n",
        "\n",
        "n_features = features_standarized.shape[1]\n",
        "nlist = 3\n",
        "k = 2\n",
        "\n",
        "quantizer = faiss.IndexFlatIP(n_features)\n",
        "index = faiss.IndexIVFFlat(quantizer, n_features, nlist)\n",
        "\n",
        "index.train(features_standarized)\n",
        "index.add(features_standarized)\n",
        "\n",
        "new_observation = np.array([[1, 1, 1, 1]])\n",
        "\n",
        "distances, indices = index.search(new_observation, k)\n",
        "\n",
        "np.array([list(features_standarized[i]) for i in indices[0]])\n"
      ],
      "metadata": {
        "colab": {
          "base_uri": "https://localhost:8080/"
        },
        "id": "Z7EgUIUqWWKz",
        "outputId": "63265bcc-78aa-4b80-d1b5-7de100730aaa"
      },
      "execution_count": 26,
      "outputs": [
        {
          "output_type": "execute_result",
          "data": {
            "text/plain": [
              "array([[1.03800476, 0.55861082, 1.10378283, 1.18556721],\n",
              "       [0.79566902, 0.32841405, 0.76275827, 1.05393502]])"
            ]
          },
          "metadata": {},
          "execution_count": 26
        }
      ]
    },
    {
      "cell_type": "markdown",
      "source": [
        "#Evaluating Approximate Nearest Neighbors"
      ],
      "metadata": {
        "id": "dZFXq4Loa85Y"
      }
    },
    {
      "cell_type": "code",
      "source": [
        "import faiss\n",
        "from sklearn import datasets\n",
        "from sklearn.neighbors import NearestNeighbors\n",
        "from sklearn.preprocessing import StandardScaler\n",
        "\n",
        "k = 10\n",
        "\n",
        "iris = datasets.load_iris()\n",
        "\n",
        "features= iris.data\n",
        "\n",
        "standardizer = StandardScaler()\n",
        "\n",
        "features_standarized = standardizer.fit_transform(features)\n",
        "\n",
        "nearest_neighbours = NearestNeighbors(n_neighbors=k).fit(features_standarized)\n",
        "\n",
        "n_features = features_standarized.shape[1]\n",
        "n_list = 3\n",
        "\n",
        "quantizer = faiss.IndexFlatIP(n_features)\n",
        "index = faiss.IndexIVFFlat(quantizer, n_features, nlist)\n",
        "\n",
        "index.train(features_standarized)\n",
        "index.add(features_standarized)\n",
        "index.nprobe = 1\n",
        "\n",
        "new_observation = np.array([[1, 1, 1, 1]])\n",
        "\n",
        "knn_distance, knn_indices = nearest_neighbours.kneighbors(new_observation)\n",
        "\n",
        "ivf_distances, ivf_indices = index.search(new_observation, k)\n",
        "\n",
        "recalled_items = set(list(knn_indices[0])) & set(list(ivf_indices[0]))\n",
        "\n",
        "print(f\"Recall @k={k}: {len(recalled_items)/k * 100}%\")\n",
        "\n"
      ],
      "metadata": {
        "colab": {
          "base_uri": "https://localhost:8080/"
        },
        "id": "UcXPCgAFYIEj",
        "outputId": "7e5a8a26-deba-409c-9ceb-d4ad3e359d8d"
      },
      "execution_count": 27,
      "outputs": [
        {
          "output_type": "stream",
          "name": "stdout",
          "text": [
            "Recall @k=10: 100.0%\n"
          ]
        }
      ]
    }
  ]
}