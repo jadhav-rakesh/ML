{
  "nbformat": 4,
  "nbformat_minor": 0,
  "metadata": {
    "colab": {
      "provenance": [],
      "authorship_tag": "ABX9TyNFSGb02CQ0nbHiffgoITD5",
      "include_colab_link": true
    },
    "kernelspec": {
      "name": "python3",
      "display_name": "Python 3"
    },
    "language_info": {
      "name": "python"
    }
  },
  "cells": [
    {
      "cell_type": "markdown",
      "metadata": {
        "id": "view-in-github",
        "colab_type": "text"
      },
      "source": [
        "<a href=\"https://colab.research.google.com/github/jadhav-rakesh/ML/blob/main/ds13.ipynb\" target=\"_parent\"><img src=\"https://colab.research.google.com/assets/colab-badge.svg\" alt=\"Open In Colab\"/></a>"
      ]
    },
    {
      "cell_type": "markdown",
      "source": [
        "#Linear Regression"
      ],
      "metadata": {
        "id": "upmaFIDxElqI"
      }
    },
    {
      "cell_type": "code",
      "execution_count": 1,
      "metadata": {
        "id": "v47Ym4PIERMB"
      },
      "outputs": [],
      "source": [
        "import numpy as np\n",
        "import pandas as pd"
      ]
    },
    {
      "cell_type": "markdown",
      "source": [
        "#Fitting a Line"
      ],
      "metadata": {
        "id": "IPP8O5B9E2B-"
      }
    },
    {
      "cell_type": "code",
      "source": [
        "#train a model that represents a linear relationship between the feature and target vector.\n",
        "\n",
        "from sklearn.linear_model import LinearRegression\n",
        "from sklearn.datasets import make_regression\n",
        "\n",
        "features, target = make_regression(n_samples=100,\n",
        "                                   n_features=3,\n",
        "                                   n_informative=2,\n",
        "                                   n_targets=1,\n",
        "                                   noise=0.2,\n",
        "                                   coef=False,\n",
        "                                   random_state=1)\n",
        "\n",
        "regression = LinearRegression()\n",
        "\n",
        "model = regression.fit(features, target)"
      ],
      "metadata": {
        "id": "ao1_0MJzEre_"
      },
      "execution_count": 2,
      "outputs": []
    },
    {
      "cell_type": "code",
      "source": [
        "model.intercept_"
      ],
      "metadata": {
        "colab": {
          "base_uri": "https://localhost:8080/"
        },
        "id": "OBcsowcdF8uL",
        "outputId": "45fade82-7080-4331-cd45-4f0e2bc4582e"
      },
      "execution_count": 3,
      "outputs": [
        {
          "output_type": "execute_result",
          "data": {
            "text/plain": [
              "-0.009650118178816669"
            ]
          },
          "metadata": {},
          "execution_count": 3
        }
      ]
    },
    {
      "cell_type": "code",
      "source": [
        "model.coef_"
      ],
      "metadata": {
        "colab": {
          "base_uri": "https://localhost:8080/"
        },
        "id": "iagrQs_eF_Nj",
        "outputId": "db980824-f2f8-4d18-f851-ae8be2632163"
      },
      "execution_count": 4,
      "outputs": [
        {
          "output_type": "execute_result",
          "data": {
            "text/plain": [
              "array([1.95531234e-02, 4.42087450e+01, 5.81494563e+01])"
            ]
          },
          "metadata": {},
          "execution_count": 4
        }
      ]
    },
    {
      "cell_type": "code",
      "source": [
        "target[0]"
      ],
      "metadata": {
        "colab": {
          "base_uri": "https://localhost:8080/"
        },
        "id": "rc6Z3uE9GH1Y",
        "outputId": "e6b69760-367d-4355-f6d5-a26896ba9f4a"
      },
      "execution_count": 5,
      "outputs": [
        {
          "output_type": "execute_result",
          "data": {
            "text/plain": [
              "-20.870747595269407"
            ]
          },
          "metadata": {},
          "execution_count": 5
        }
      ]
    },
    {
      "cell_type": "code",
      "source": [
        "model.predict(features)[0]"
      ],
      "metadata": {
        "colab": {
          "base_uri": "https://localhost:8080/"
        },
        "id": "rFO52t6IGKf-",
        "outputId": "ac2aab51-0e5e-4865-aae4-c361c84dd474"
      },
      "execution_count": 6,
      "outputs": [
        {
          "output_type": "execute_result",
          "data": {
            "text/plain": [
              "-20.861927709296808"
            ]
          },
          "metadata": {},
          "execution_count": 6
        }
      ]
    },
    {
      "cell_type": "code",
      "source": [
        "print(model.score(features, target))"
      ],
      "metadata": {
        "colab": {
          "base_uri": "https://localhost:8080/"
        },
        "id": "7Gzzt6pmGqtI",
        "outputId": "0d7e559c-15c9-4b66-8386-8bc0a37d53e3"
      },
      "execution_count": 7,
      "outputs": [
        {
          "output_type": "stream",
          "name": "stdout",
          "text": [
            "0.9999901732607787\n"
          ]
        }
      ]
    },
    {
      "cell_type": "markdown",
      "source": [
        "#Handling Interactive Effects"
      ],
      "metadata": {
        "id": "DdOQA94DG5nP"
      }
    },
    {
      "cell_type": "code",
      "source": [
        "#You have a feature whose effect on the target variable depends on another feature.\n",
        "\n",
        "from sklearn.linear_model import LinearRegression\n",
        "from sklearn.preprocessing import PolynomialFeatures\n",
        "from sklearn.datasets import make_regression\n",
        "\n",
        "features ,target = make_regression(n_samples=100,\n",
        "                                   n_features=2,\n",
        "                                   n_informative=2,\n",
        "                                   n_targets=1,\n",
        "                                   noise=0.2,\n",
        "                                   coef=False,\n",
        "                                   random_state=1)\n",
        "\n",
        "interaction = PolynomialFeatures(degree=3, include_bias=False, interaction_only=True)\n",
        "\n",
        "features_interaction = interaction.fit_transform(features)\n",
        "\n",
        "regression = LinearRegression()\n",
        "\n",
        "model = regression.fit(features_interaction, target)"
      ],
      "metadata": {
        "id": "YcvMhoohG6lm"
      },
      "execution_count": 8,
      "outputs": []
    },
    {
      "cell_type": "code",
      "source": [
        "features[0]"
      ],
      "metadata": {
        "colab": {
          "base_uri": "https://localhost:8080/"
        },
        "id": "rfUyBDbNH6Nn",
        "outputId": "f7c1adbc-d971-4e54-bb6b-1e2ebb999c99"
      },
      "execution_count": 9,
      "outputs": [
        {
          "output_type": "execute_result",
          "data": {
            "text/plain": [
              "array([0.0465673 , 0.80186103])"
            ]
          },
          "metadata": {},
          "execution_count": 9
        }
      ]
    },
    {
      "cell_type": "code",
      "source": [
        "interaction_term = np.multiply(features[:, 0], features[:, 1])\n",
        "interaction_term[0]"
      ],
      "metadata": {
        "colab": {
          "base_uri": "https://localhost:8080/"
        },
        "id": "OI40rlnSI_b5",
        "outputId": "163cb7fc-fb5f-4193-da6e-fa81ccc27cfd"
      },
      "execution_count": 10,
      "outputs": [
        {
          "output_type": "execute_result",
          "data": {
            "text/plain": [
              "0.037340501965846186"
            ]
          },
          "metadata": {},
          "execution_count": 10
        }
      ]
    },
    {
      "cell_type": "code",
      "source": [
        "features_interaction[0]"
      ],
      "metadata": {
        "colab": {
          "base_uri": "https://localhost:8080/"
        },
        "id": "lOPZwGVWJKVT",
        "outputId": "bf7d615f-7758-41d7-93b1-b81758e2b4bd"
      },
      "execution_count": 11,
      "outputs": [
        {
          "output_type": "execute_result",
          "data": {
            "text/plain": [
              "array([0.0465673 , 0.80186103, 0.0373405 ])"
            ]
          },
          "metadata": {},
          "execution_count": 11
        }
      ]
    },
    {
      "cell_type": "markdown",
      "source": [
        "#Fitting a Nonlinear Relationship"
      ],
      "metadata": {
        "id": "_m_IFnZ1JR8U"
      }
    },
    {
      "cell_type": "code",
      "source": [
        "#model a nonlinear relationship.\n",
        "\n",
        "from sklearn.linear_model import LinearRegression\n",
        "from sklearn.preprocessing import PolynomialFeatures\n",
        "from sklearn.datasets import make_regression\n",
        "\n",
        "features, target = make_regression(n_samples=100,\n",
        "                                   n_features=3,\n",
        "                                   n_informative=2,\n",
        "                                   n_targets=1,\n",
        "                                   noise=0.2,\n",
        "                                   coef=False,\n",
        "                                   random_state=42)\n",
        "\n",
        "polynomial = PolynomialFeatures(degree=3, include_bias=False)\n",
        "features_polynomial = polynomial.fit_transform(features)\n",
        "\n",
        "regression = LinearRegression()\n",
        "\n",
        "model = regression.fit(features_polynomial, target)"
      ],
      "metadata": {
        "id": "QJA-OigXJS3l"
      },
      "execution_count": 12,
      "outputs": []
    },
    {
      "cell_type": "code",
      "source": [
        "features[0]"
      ],
      "metadata": {
        "colab": {
          "base_uri": "https://localhost:8080/"
        },
        "id": "A8KriZmCK5cI",
        "outputId": "bb77dfee-c07e-44e7-8f5b-83c236cdab72"
      },
      "execution_count": 13,
      "outputs": [
        {
          "output_type": "execute_result",
          "data": {
            "text/plain": [
              "array([-0.51827022,  1.47789404,  0.35711257])"
            ]
          },
          "metadata": {},
          "execution_count": 13
        }
      ]
    },
    {
      "cell_type": "code",
      "source": [
        "features[0]**2"
      ],
      "metadata": {
        "colab": {
          "base_uri": "https://localhost:8080/"
        },
        "id": "kUSi37HkLDE8",
        "outputId": "55114d55-42d3-4a6a-c52e-8c88ff17a2fd"
      },
      "execution_count": 14,
      "outputs": [
        {
          "output_type": "execute_result",
          "data": {
            "text/plain": [
              "array([0.26860402, 2.18417081, 0.12752939])"
            ]
          },
          "metadata": {},
          "execution_count": 14
        }
      ]
    },
    {
      "cell_type": "code",
      "source": [
        "features[0]**3"
      ],
      "metadata": {
        "colab": {
          "base_uri": "https://localhost:8080/"
        },
        "id": "f1G0ylw4LKzc",
        "outputId": "38ae2429-879d-4184-d2b9-77d2002821ac"
      },
      "execution_count": 15,
      "outputs": [
        {
          "output_type": "execute_result",
          "data": {
            "text/plain": [
              "array([-0.13920946,  3.22797303,  0.04554235])"
            ]
          },
          "metadata": {},
          "execution_count": 15
        }
      ]
    },
    {
      "cell_type": "code",
      "source": [
        "features_polynomial[0]"
      ],
      "metadata": {
        "colab": {
          "base_uri": "https://localhost:8080/"
        },
        "id": "bFbBALSNLOaZ",
        "outputId": "8cd61bcc-5f86-4c76-def8-f90eb589ec56"
      },
      "execution_count": 16,
      "outputs": [
        {
          "output_type": "execute_result",
          "data": {
            "text/plain": [
              "array([-0.51827022,  1.47789404,  0.35711257,  0.26860402, -0.76594847,\n",
              "       -0.18508081,  2.18417081,  0.52777454,  0.12752939, -0.13920946,\n",
              "        0.39696828,  0.09592187, -1.13199068, -0.27352983, -0.06609468,\n",
              "        3.22797303,  0.77999485,  0.18847492,  0.04554235])"
            ]
          },
          "metadata": {},
          "execution_count": 16
        }
      ]
    },
    {
      "cell_type": "markdown",
      "source": [
        "# Reducing Variance with Regularization"
      ],
      "metadata": {
        "id": "dNQh5Wy4L5ry"
      }
    },
    {
      "cell_type": "code",
      "source": [
        "#shrinkage penalty (also called regularization) like ridge regression and lasso regression\n",
        "\n",
        "from sklearn.linear_model import Ridge\n",
        "from sklearn.preprocessing import StandardScaler\n",
        "from sklearn.datasets import make_regression\n",
        "\n",
        "features, target = make_regression(n_samples=100,\n",
        "                                   n_features=3,\n",
        "                                   n_informative=2,\n",
        "                                   n_targets=1,\n",
        "                                   noise=0.2,\n",
        "                                   coef=False,\n",
        "                                   random_state=1)\n",
        "\n",
        "scaler = StandardScaler()\n",
        "features_standardized = scaler.fit_transform(features)\n",
        "\n",
        "regression = Ridge(alpha=0.5)\n",
        "\n",
        "model = regression.fit(features_standardized, target)"
      ],
      "metadata": {
        "id": "sND1kh4qL5D7"
      },
      "execution_count": 17,
      "outputs": []
    },
    {
      "cell_type": "markdown",
      "source": [
        "* In ridge regression, the shrinkage penalty is a tuning hyperparameter multiplied by the squared sum of all coefficients:\n",
        "\n",
        "* he lasso is similar, except the shrinkage penalty is a tuning hyperparameter multiplied by the sum of the absolute value of all coefficients:"
      ],
      "metadata": {
        "id": "qbDRa5AfNG68"
      }
    },
    {
      "cell_type": "markdown",
      "source": [
        "* ridge regression often produces slightly better predictions than lasso\n",
        "*  If we want a balance between ridge and lasso’s penalty functions we can use elastic net, which is simply a regression model with both penalties included."
      ],
      "metadata": {
        "id": "i-0T3rWkOdhK"
      }
    },
    {
      "cell_type": "code",
      "source": [
        "from sklearn.linear_model import RidgeCV\n",
        "\n",
        "regr_cv = RidgeCV(alphas=[0.1, 1.0, 10.0])\n",
        "\n",
        "model_cv = regr_cv.fit(features_standardized, target)\n",
        "\n",
        "model_cv.coef_"
      ],
      "metadata": {
        "colab": {
          "base_uri": "https://localhost:8080/"
        },
        "id": "X2mDKnpQNZd8",
        "outputId": "01e80585-e36e-437e-8d40-6e6f8da56e3f"
      },
      "execution_count": 18,
      "outputs": [
        {
          "output_type": "execute_result",
          "data": {
            "text/plain": [
              "array([1.29223201e-02, 4.40972291e+01, 5.38979372e+01])"
            ]
          },
          "metadata": {},
          "execution_count": 18
        }
      ]
    },
    {
      "cell_type": "code",
      "source": [
        "model_cv.alpha_"
      ],
      "metadata": {
        "colab": {
          "base_uri": "https://localhost:8080/"
        },
        "id": "9p-sbMcQPEro",
        "outputId": "8385696e-0f05-4492-b452-9162d979d2de"
      },
      "execution_count": 19,
      "outputs": [
        {
          "output_type": "execute_result",
          "data": {
            "text/plain": [
              "0.1"
            ]
          },
          "metadata": {},
          "execution_count": 19
        }
      ]
    },
    {
      "cell_type": "markdown",
      "source": [
        "#Reducing Features with Lasso Regression"
      ],
      "metadata": {
        "id": "CsOJzgS4Pg3l"
      }
    },
    {
      "cell_type": "code",
      "source": [
        "from sklearn.linear_model import Lasso\n",
        "from sklearn.preprocessing import StandardScaler\n",
        "from sklearn.datasets import make_regression\n",
        "\n",
        "features, target = make_regression(n_samples=100,\n",
        "                                   n_features=3,\n",
        "                                   n_informative=2,\n",
        "                                   n_targets=1,\n",
        "                                   noise=0.2,\n",
        "                                   coef=False,\n",
        "                                   random_state=42)\n",
        "\n",
        "scaler = StandardScaler()\n",
        "features_standardized = scaler.fit_transform(features)\n",
        "\n",
        "regerssion = Lasso(alpha=0.5)\n",
        "\n",
        "model = regression.fit(features_standardized, target)"
      ],
      "metadata": {
        "id": "Zl9_NDBxPgez"
      },
      "execution_count": 20,
      "outputs": []
    },
    {
      "cell_type": "code",
      "source": [
        "model.coef_\n"
      ],
      "metadata": {
        "colab": {
          "base_uri": "https://localhost:8080/"
        },
        "id": "U1_HFbFMQXjT",
        "outputId": "b4d86880-826a-4207-d09b-8b51ac9eb4f6"
      },
      "execution_count": 21,
      "outputs": [
        {
          "output_type": "execute_result",
          "data": {
            "text/plain": [
              "array([-0.05185633, 17.20798734, 22.99988714])"
            ]
          },
          "metadata": {},
          "execution_count": 21
        }
      ]
    },
    {
      "cell_type": "code",
      "source": [
        "regression_a10 = Lasso(alpha=10)\n",
        "model_a10 = regression_a10.fit(features_standardized, target)\n",
        "model_a10.coef_"
      ],
      "metadata": {
        "colab": {
          "base_uri": "https://localhost:8080/"
        },
        "id": "WVkkHWtEQhoA",
        "outputId": "b5607412-9e83-41b7-dcaf-810f03b0f327"
      },
      "execution_count": 22,
      "outputs": [
        {
          "output_type": "execute_result",
          "data": {
            "text/plain": [
              "array([-0.       ,  6.7953537, 12.6147187])"
            ]
          },
          "metadata": {},
          "execution_count": 22
        }
      ]
    }
  ]
}