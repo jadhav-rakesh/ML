{
  "nbformat": 4,
  "nbformat_minor": 0,
  "metadata": {
    "colab": {
      "provenance": [],
      "authorship_tag": "ABX9TyN5H6V8cpgJWpGk1whAszUB",
      "include_colab_link": true
    },
    "kernelspec": {
      "name": "python3",
      "display_name": "Python 3"
    },
    "language_info": {
      "name": "python"
    }
  },
  "cells": [
    {
      "cell_type": "markdown",
      "metadata": {
        "id": "view-in-github",
        "colab_type": "text"
      },
      "source": [
        "<a href=\"https://colab.research.google.com/github/jadhav-rakesh/ML/blob/main/ds9.ipynb\" target=\"_parent\"><img src=\"https://colab.research.google.com/assets/colab-badge.svg\" alt=\"Open In Colab\"/></a>"
      ]
    },
    {
      "cell_type": "markdown",
      "source": [
        "#Dimensionality Reduction Using Feature Extraction"
      ],
      "metadata": {
        "id": "b8gbOxPCCIya"
      }
    },
    {
      "cell_type": "code",
      "source": [
        "import numpy as np\n",
        "import pandas as pd"
      ],
      "metadata": {
        "id": "tXy6ACoBCvbW"
      },
      "execution_count": 1,
      "outputs": []
    },
    {
      "cell_type": "code",
      "execution_count": 3,
      "metadata": {
        "colab": {
          "base_uri": "https://localhost:8080/"
        },
        "id": "9w4ZnX08B2SN",
        "outputId": "9b843928-7c38-4858-ba75-cdc5b43921fc"
      },
      "outputs": [
        {
          "output_type": "stream",
          "name": "stdout",
          "text": [
            "64\n",
            "54\n"
          ]
        }
      ],
      "source": [
        "#Reducing Features Using Principal Components\n",
        "\n",
        "from sklearn.preprocessing import StandardScaler\n",
        "from sklearn.decomposition import PCA\n",
        "from sklearn import datasets\n",
        "\n",
        "digits = datasets.load_digits()\n",
        "\n",
        "features = StandardScaler().fit_transform(digits.data)\n",
        "\n",
        "pca = PCA(n_components=0.99, whiten=True)\n",
        "\n",
        "feature_pca = pca.fit_transform(features)\n",
        "\n",
        "print(features.shape[1])\n",
        "print(feature_pca.shape[1])"
      ]
    },
    {
      "cell_type": "markdown",
      "source": [
        "#Principal component analysis (PCA)\n",
        "* linear dimensionality reduction technique\n",
        "* unsupervised technique\n",
        "*"
      ],
      "metadata": {
        "id": "MmhisjBFDent"
      }
    },
    {
      "cell_type": "markdown",
      "source": [
        "#Reducing Features When Data Is Linearly Inseparable"
      ],
      "metadata": {
        "id": "57J-uG6tErm6"
      }
    },
    {
      "cell_type": "code",
      "source": [
        "from sklearn.decomposition import PCA, KernelPCA\n",
        "from sklearn.datasets import make_circles\n",
        "\n",
        "features, _ = make_circles(n_samples=1000, random_state=1, noise=0.1, factor=0.1)\n",
        "\n",
        "kpca = KernelPCA(kernel=\"rbf\", gamma=15, n_components=1)\n",
        "features_kpca = kpca.fit_transform(features)\n",
        "\n",
        "print(features.shape[1])\n",
        "print(features_kpca.shape[1])"
      ],
      "metadata": {
        "colab": {
          "base_uri": "https://localhost:8080/"
        },
        "id": "8rYjUtcQDbp-",
        "outputId": "bec749f5-ff76-4c13-833e-d8273f493618"
      },
      "execution_count": 5,
      "outputs": [
        {
          "output_type": "stream",
          "name": "stdout",
          "text": [
            "2\n",
            "1\n"
          ]
        }
      ]
    },
    {
      "cell_type": "markdown",
      "source": [
        "#Reducing Features by Maximizing Class Separability"
      ],
      "metadata": {
        "id": "OfwRrFUgG1Jp"
      }
    },
    {
      "cell_type": "code",
      "source": [
        "from sklearn.discriminant_analysis import LinearDiscriminantAnalysis\n",
        "\n",
        "iris = datasets.load_iris()\n",
        "features = iris.data\n",
        "target = iris.target\n",
        "\n",
        "lda = LinearDiscriminantAnalysis(n_components=1)\n",
        "features_lda = lda.fit(features, target).transform(features)\n",
        "\n",
        "print(features.shape[1])\n",
        "print(features_lda.shape)"
      ],
      "metadata": {
        "colab": {
          "base_uri": "https://localhost:8080/"
        },
        "id": "2bbpdh3iG0ni",
        "outputId": "9823905c-4b5b-4acd-de68-8b5ae9cf1278"
      },
      "execution_count": 6,
      "outputs": [
        {
          "output_type": "stream",
          "name": "stdout",
          "text": [
            "4\n",
            "(150, 1)\n"
          ]
        }
      ]
    },
    {
      "cell_type": "code",
      "source": [
        "lda.explained_variance_ratio_"
      ],
      "metadata": {
        "colab": {
          "base_uri": "https://localhost:8080/"
        },
        "id": "UtgAzMLWHnFx",
        "outputId": "b347a13a-16a5-47e1-9ed4-b80c6e130671"
      },
      "execution_count": 8,
      "outputs": [
        {
          "output_type": "execute_result",
          "data": {
            "text/plain": [
              "array([0.9912126])"
            ]
          },
          "metadata": {},
          "execution_count": 8
        }
      ]
    },
    {
      "cell_type": "code",
      "source": [
        "lda = LinearDiscriminantAnalysis(n_components=None)\n",
        "features_lda = lda.fit(features, target)\n",
        "\n",
        "lda_var_ratios = lda.explained_variance_ratio_\n",
        "\n",
        "def select_n_compnents(var_ratio, goal_var:float) -> int:\n",
        "    total_variance = 0.0\n",
        "    n_components = 0\n",
        "    for expalined_variance in var_ratio:\n",
        "        total_variance += expalined_variance\n",
        "        n_components += 1\n",
        "\n",
        "        if total_variance >= goal_var:\n",
        "            break\n",
        "\n",
        "    return n_components\n",
        "\n",
        "select_n_compnents(lda_var_ratios, 0.95)"
      ],
      "metadata": {
        "colab": {
          "base_uri": "https://localhost:8080/"
        },
        "id": "cTL-6VHiIal4",
        "outputId": "c8602e73-963d-403c-8717-e714b1c782fc"
      },
      "execution_count": 9,
      "outputs": [
        {
          "output_type": "execute_result",
          "data": {
            "text/plain": [
              "1"
            ]
          },
          "metadata": {},
          "execution_count": 9
        }
      ]
    },
    {
      "cell_type": "markdown",
      "source": [
        "#Reducing Features Using Matrix Factorization"
      ],
      "metadata": {
        "id": "Bj_ZSdvqJc0S"
      }
    },
    {
      "cell_type": "markdown",
      "source": [
        "* NMF is an unsupervised technique for linear dimensionality reduction that factorizes the feature matrix into matrices representing the latent relationship between observations and their features\n"
      ],
      "metadata": {
        "id": "UCSLs-LBKJyd"
      }
    },
    {
      "cell_type": "code",
      "source": [
        "#You have a feature matrix of nonnegative values and want to reduce the dimensionality.\n",
        "\n",
        "from sklearn.decomposition import NMF\n",
        "from sklearn import datasets\n",
        "\n",
        "digits = datasets.load_digits()\n",
        "\n",
        "features = digits.data\n",
        "\n",
        "nmf = NMF(n_components=10, random_state=42)\n",
        "features_nmf = nmf.fit_transform(features)\n",
        "\n",
        "print(features.shape[1])\n",
        "print(features_nmf.shape[1])"
      ],
      "metadata": {
        "colab": {
          "base_uri": "https://localhost:8080/"
        },
        "id": "UPSCTWqgJT4-",
        "outputId": "8e15d6be-8b0b-4e67-d06e-fbcda23b1a35"
      },
      "execution_count": 10,
      "outputs": [
        {
          "output_type": "stream",
          "name": "stdout",
          "text": [
            "64\n",
            "10\n"
          ]
        },
        {
          "output_type": "stream",
          "name": "stderr",
          "text": [
            "/usr/local/lib/python3.11/dist-packages/sklearn/decomposition/_nmf.py:1742: ConvergenceWarning: Maximum number of iterations 200 reached. Increase it to improve convergence.\n",
            "  warnings.warn(\n"
          ]
        }
      ]
    },
    {
      "cell_type": "markdown",
      "source": [
        "#Reducing Features on Sparse Data"
      ],
      "metadata": {
        "id": "hjBQxyRgKlav"
      }
    },
    {
      "cell_type": "code",
      "source": [
        "#Truncated Singular Value Decomposition (TSVD):\n",
        "\n",
        "from sklearn.preprocessing import StandardScaler\n",
        "from sklearn.decomposition import TruncatedSVD\n",
        "from scipy.sparse import csr_matrix\n",
        "from sklearn import datasets\n",
        "import numpy as np\n",
        "\n",
        "digits = datasets.load_digits()\n",
        "\n",
        "features = StandardScaler().fit_transform(digits.data)\n",
        "\n",
        "features_sparse = csr_matrix(features)\n",
        "\n",
        "tsvd = TruncatedSVD(n_components=10)\n",
        "\n",
        "features_sparse_tvsd = tsvd.fit(features_sparse).transform(features_sparse)\n",
        "\n",
        "print(features_sparse.shape[1])\n",
        "print(features_sparse_tvsd.shape[1])"
      ],
      "metadata": {
        "colab": {
          "base_uri": "https://localhost:8080/"
        },
        "id": "L2SknrUbKk-1",
        "outputId": "2152e989-9bb7-434d-da38-8f5fb3dada3f"
      },
      "execution_count": 11,
      "outputs": [
        {
          "output_type": "stream",
          "name": "stdout",
          "text": [
            "64\n",
            "10\n"
          ]
        }
      ]
    },
    {
      "cell_type": "code",
      "source": [
        "tsvd.explained_variance_ratio_[0:3].sum()"
      ],
      "metadata": {
        "colab": {
          "base_uri": "https://localhost:8080/"
        },
        "id": "wj1G99DxMUWe",
        "outputId": "e6297000-57d0-4587-d7bb-9a0d983cd6c6"
      },
      "execution_count": 12,
      "outputs": [
        {
          "output_type": "execute_result",
          "data": {
            "text/plain": [
              "0.30039385391325724"
            ]
          },
          "metadata": {},
          "execution_count": 12
        }
      ]
    },
    {
      "cell_type": "code",
      "source": [
        "from functools import total_ordering\n",
        "tsvd = TruncatedSVD(n_components=features_sparse.shape[1] - 1)\n",
        "features_tsvd = tsvd.fit(features)\n",
        "\n",
        "tsvd_var_ratios = tsvd.explained_variance_ratio_\n",
        "\n",
        "def select_n_components(var_ratio, goal_var):\n",
        "    total_variacne = 0.0\n",
        "    n_components = 0\n",
        "    for expalined_variance in var_ratio:\n",
        "        total_variacne += expalined_variance\n",
        "        n_components += 1\n",
        "        if total_variacne >= goal_var:\n",
        "            break\n",
        "    return n_components\n",
        "\n",
        "select_n_components(tsvd_var_ratios, 0.95)"
      ],
      "metadata": {
        "colab": {
          "base_uri": "https://localhost:8080/"
        },
        "id": "ohA20x9VM2K8",
        "outputId": "651b22b3-c041-4f1e-9bbb-eb91bc17011b"
      },
      "execution_count": 13,
      "outputs": [
        {
          "output_type": "execute_result",
          "data": {
            "text/plain": [
              "40"
            ]
          },
          "metadata": {},
          "execution_count": 13
        }
      ]
    }
  ]
}