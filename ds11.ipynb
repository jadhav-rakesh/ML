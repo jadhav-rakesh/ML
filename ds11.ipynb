{
  "nbformat": 4,
  "nbformat_minor": 0,
  "metadata": {
    "colab": {
      "provenance": [],
      "authorship_tag": "ABX9TyOjbkJ5KFaADUAETDL9pBrK",
      "include_colab_link": true
    },
    "kernelspec": {
      "name": "python3",
      "display_name": "Python 3"
    },
    "language_info": {
      "name": "python"
    }
  },
  "cells": [
    {
      "cell_type": "markdown",
      "metadata": {
        "id": "view-in-github",
        "colab_type": "text"
      },
      "source": [
        "<a href=\"https://colab.research.google.com/github/jadhav-rakesh/ML/blob/main/ds11.ipynb\" target=\"_parent\"><img src=\"https://colab.research.google.com/assets/colab-badge.svg\" alt=\"Open In Colab\"/></a>"
      ]
    },
    {
      "cell_type": "markdown",
      "source": [
        "#Model Evaluation"
      ],
      "metadata": {
        "id": "QDZm5XFx0iRo"
      }
    },
    {
      "cell_type": "code",
      "execution_count": 1,
      "metadata": {
        "id": "Ku-vBeQa0hry"
      },
      "outputs": [],
      "source": [
        "import numpy as np\n",
        "import pandas as pd"
      ]
    },
    {
      "cell_type": "markdown",
      "source": [
        "#Cross-Validating Models"
      ],
      "metadata": {
        "id": "oyEMBy2v00Zr"
      }
    },
    {
      "cell_type": "code",
      "source": [
        "#evaluate how well your classification model generalizes to unforeseen data.\n",
        "\n",
        "from sklearn import datasets\n",
        "from sklearn import metrics\n",
        "from sklearn.model_selection import KFold, cross_val_score\n",
        "from sklearn.pipeline import make_pipeline\n",
        "from sklearn.linear_model import LogisticRegression\n",
        "from sklearn.preprocessing import StandardScaler\n",
        "\n",
        "digits = datasets.load_digits()\n",
        "\n",
        "features = digits.data\n",
        "target = digits.target\n",
        "\n",
        "standardizer = StandardScaler()\n",
        "\n",
        "logit = LogisticRegression()\n",
        "\n",
        "pipeline = make_pipeline(standardizer,\n",
        "                         logit)\n",
        "\n",
        "kf = KFold(n_splits=5, shuffle=True, random_state=42)\n",
        "\n",
        "cv_results = cross_val_score(pipeline,\n",
        "                             features,\n",
        "                             target,\n",
        "                             cv=kf,\n",
        "                             scoring=\"accuracy\",\n",
        "                             n_jobs=-1)\n",
        "\n",
        "cv_results.mean()"
      ],
      "metadata": {
        "colab": {
          "base_uri": "https://localhost:8080/"
        },
        "id": "L3SqRLu60mx7",
        "outputId": "02cff92c-0d6e-4e10-eee9-8c5820b3b949"
      },
      "execution_count": 2,
      "outputs": [
        {
          "output_type": "execute_result",
          "data": {
            "text/plain": [
              "0.9638223460229032"
            ]
          },
          "metadata": {},
          "execution_count": 2
        }
      ]
    },
    {
      "cell_type": "code",
      "source": [
        "cv_results"
      ],
      "metadata": {
        "colab": {
          "base_uri": "https://localhost:8080/"
        },
        "id": "xe_Esnb33Wuy",
        "outputId": "8fee239d-1e92-4f2e-ccd9-7a91ddbac7e6"
      },
      "execution_count": 3,
      "outputs": [
        {
          "output_type": "execute_result",
          "data": {
            "text/plain": [
              "array([0.97222222, 0.96666667, 0.9637883 , 0.96100279, 0.95543175])"
            ]
          },
          "metadata": {},
          "execution_count": 3
        }
      ]
    },
    {
      "cell_type": "code",
      "source": [
        "from sklearn.model_selection import train_test_split\n",
        "\n",
        "features_train, features_test, target_train, target_test = train_test_split(\n",
        "    features, target, test_size=0.1, random_state=1\n",
        ")\n",
        "\n",
        "standardizer.fit(features_train)\n",
        "\n",
        "feautures_train_std = standardizer.transform(features_train)\n",
        "features_test_std = standardizer.transform(features_test)"
      ],
      "metadata": {
        "id": "SgGLWD9F3YpD"
      },
      "execution_count": 4,
      "outputs": []
    },
    {
      "cell_type": "code",
      "source": [
        "pipeline = make_pipeline(standardizer, logit)"
      ],
      "metadata": {
        "id": "AkNw_sQI40fe"
      },
      "execution_count": 5,
      "outputs": []
    },
    {
      "cell_type": "code",
      "source": [
        "cv_results = cross_val_score(pipeline,\n",
        "                             features,\n",
        "                             target,\n",
        "                             cv=kf,\n",
        "                             scoring=\"accuracy\",\n",
        "                             n_jobs=-1)"
      ],
      "metadata": {
        "id": "U0C0K1bm4_fI"
      },
      "execution_count": 6,
      "outputs": []
    },
    {
      "cell_type": "markdown",
      "source": [
        "# Creating a Baseline Regression Model"
      ],
      "metadata": {
        "id": "umkfxJAu5m8z"
      }
    },
    {
      "cell_type": "code",
      "source": [
        "#You want a simple baseline regression model to use as a comparison against other models that you train.\n",
        "\n",
        "from sklearn.datasets import load_wine\n",
        "from sklearn.dummy import DummyRegressor\n",
        "from sklearn.model_selection import train_test_split\n",
        "\n",
        "wine = load_wine()\n",
        "\n",
        "features, target = wine.data, wine.target\n",
        "\n",
        "f_train, f_test, t_train, t_test = train_test_split(features, target, random_state=42)\n",
        "\n",
        "dummy = DummyRegressor(strategy=\"mean\")\n",
        "dummy.fit(f_train, t_train)\n",
        "dummy.score(f_test, t_test)\n",
        "\n"
      ],
      "metadata": {
        "colab": {
          "base_uri": "https://localhost:8080/"
        },
        "id": "huoafSDxpuKU",
        "outputId": "b415b03a-0b5e-4697-a023-4d655ad64b80"
      },
      "execution_count": 7,
      "outputs": [
        {
          "output_type": "execute_result",
          "data": {
            "text/plain": [
              "-7.129820961293554e-05"
            ]
          },
          "metadata": {},
          "execution_count": 7
        }
      ]
    },
    {
      "cell_type": "code",
      "source": [
        "from sklearn.linear_model import LinearRegression\n",
        "\n",
        "ols = LinearRegression()\n",
        "ols.fit(f_train, t_train)\n",
        "\n",
        "ols.score(f_test, t_test)"
      ],
      "metadata": {
        "colab": {
          "base_uri": "https://localhost:8080/"
        },
        "id": "rfLcofGVrJNB",
        "outputId": "ec447716-ff4d-46ec-8274-a98cbe66a885"
      },
      "execution_count": 8,
      "outputs": [
        {
          "output_type": "execute_result",
          "data": {
            "text/plain": [
              "0.8870868505192568"
            ]
          },
          "metadata": {},
          "execution_count": 8
        }
      ]
    },
    {
      "cell_type": "code",
      "source": [
        "clf = DummyRegressor(strategy=\"constant\", constant=1)\n",
        "clf.fit(f_train, t_train)\n",
        "\n",
        "clf.score(f_test, t_test)"
      ],
      "metadata": {
        "colab": {
          "base_uri": "https://localhost:8080/"
        },
        "id": "8g15F262rwyQ",
        "outputId": "c3543f8f-a5f4-44ad-9083-03634b55c329"
      },
      "execution_count": 9,
      "outputs": [
        {
          "output_type": "execute_result",
          "data": {
            "text/plain": [
              "-0.00746268656716409"
            ]
          },
          "metadata": {},
          "execution_count": 9
        }
      ]
    },
    {
      "cell_type": "markdown",
      "source": [
        "#Creating a Baseline Classification Model"
      ],
      "metadata": {
        "id": "BNO-TbKrtBLA"
      }
    },
    {
      "cell_type": "code",
      "source": [
        "#You want a simple baseline classifier to compare against your model.\n",
        "\n",
        "from sklearn.datasets import load_iris\n",
        "from sklearn.dummy import DummyClassifier\n",
        "from sklearn.model_selection import train_test_split\n",
        "\n",
        "iris = load_iris()\n",
        "\n",
        "features, target = iris.data, iris.target\n",
        "\n",
        "f_train, f_test, t_train, t_test = train_test_split(features, target, random_state=42)\n",
        "\n",
        "dummy = DummyClassifier(strategy=\"uniform\", random_state=42)\n",
        "dummy.fit(f_train, t_train)\n",
        "dummy.score(f_test, t_test)"
      ],
      "metadata": {
        "colab": {
          "base_uri": "https://localhost:8080/"
        },
        "id": "IqIlEYE6tDip",
        "outputId": "427bf47f-4b53-40bc-fc7b-ddc83b675cec"
      },
      "execution_count": 10,
      "outputs": [
        {
          "output_type": "execute_result",
          "data": {
            "text/plain": [
              "0.2631578947368421"
            ]
          },
          "metadata": {},
          "execution_count": 10
        }
      ]
    },
    {
      "cell_type": "code",
      "source": [
        "from sklearn.ensemble import RandomForestClassifier\n",
        "\n",
        "classifier = RandomForestClassifier()\n",
        "classifier.fit(f_train, t_train)\n",
        "classifier.score(f_test, t_test)"
      ],
      "metadata": {
        "colab": {
          "base_uri": "https://localhost:8080/"
        },
        "id": "C3eJipIHt7aU",
        "outputId": "0ad3117e-8892-42d2-c91c-8c0e7879c312"
      },
      "execution_count": 11,
      "outputs": [
        {
          "output_type": "execute_result",
          "data": {
            "text/plain": [
              "1.0"
            ]
          },
          "metadata": {},
          "execution_count": 11
        }
      ]
    },
    {
      "cell_type": "markdown",
      "source": [
        "# Evaluating Binary Classifier Predictions"
      ],
      "metadata": {
        "id": "8RlHkbj8uZbo"
      }
    },
    {
      "cell_type": "code",
      "source": [
        "#Given a trained classification model, you want to evaluate its quality.\n",
        "\n",
        "from sklearn.model_selection import cross_val_score\n",
        "from sklearn.linear_model import LogisticRegression\n",
        "from sklearn.datasets import make_classification\n",
        "\n",
        "\n",
        "X, y = make_classification(n_samples=10000,\n",
        "                           n_features=3,\n",
        "                           n_informative=3,\n",
        "                           n_redundant=0,\n",
        "                           n_classes=2,\n",
        "                           random_state=42)\n",
        "\n",
        "logit = LogisticRegression()\n",
        "\n",
        "cross_val_score(logit, X, y, scoring=\"accuracy\")"
      ],
      "metadata": {
        "colab": {
          "base_uri": "https://localhost:8080/"
        },
        "id": "U-ucqZrbubpq",
        "outputId": "c98dba3a-884f-470d-d3d3-cec6f929c85a"
      },
      "execution_count": 13,
      "outputs": [
        {
          "output_type": "execute_result",
          "data": {
            "text/plain": [
              "array([0.88  , 0.8705, 0.876 , 0.865 , 0.861 ])"
            ]
          },
          "metadata": {},
          "execution_count": 13
        }
      ]
    },
    {
      "cell_type": "markdown",
      "source": [
        "*  in the presence of imbalanced classes, accuracy suffers from a paradox where a model is highly accurate but lacks predictive power."
      ],
      "metadata": {
        "id": "0YjgRvWlvzNV"
      }
    },
    {
      "cell_type": "markdown",
      "source": [
        "- Precision\n",
        "    * TP / (TP + FP)\n",
        "    * measurement noise in our predictions\n",
        "    * how likely we are to be right when we predict something is positive\n"
      ],
      "metadata": {
        "id": "P-N9DcD7wC6v"
      }
    },
    {
      "cell_type": "code",
      "source": [
        "cross_val_score(logit, X, y, scoring=\"precision\")"
      ],
      "metadata": {
        "colab": {
          "base_uri": "https://localhost:8080/"
        },
        "id": "fYQSlsILvyw5",
        "outputId": "80859438-4c01-4a7d-89ff-3e7ede8ba7a5"
      },
      "execution_count": 14,
      "outputs": [
        {
          "output_type": "execute_result",
          "data": {
            "text/plain": [
              "array([0.87623762, 0.86939182, 0.88133874, 0.87397541, 0.85884692])"
            ]
          },
          "metadata": {},
          "execution_count": 14
        }
      ]
    },
    {
      "cell_type": "markdown",
      "source": [
        "- Recall\n",
        "    * TP / (TP + FN)\n",
        "    * measures the model’s ability to identify an observation of the positive class"
      ],
      "metadata": {
        "id": "V7x6J2gPxXjA"
      }
    },
    {
      "cell_type": "code",
      "source": [
        "cross_val_score(logit, X, y, scoring=\"recall\")"
      ],
      "metadata": {
        "colab": {
          "base_uri": "https://localhost:8080/"
        },
        "id": "KM7kVurdxWdJ",
        "outputId": "13263b01-87f2-493c-b049-83e1aca6bd53"
      },
      "execution_count": 15,
      "outputs": [
        {
          "output_type": "execute_result",
          "data": {
            "text/plain": [
              "array([0.885, 0.872, 0.869, 0.853, 0.864])"
            ]
          },
          "metadata": {},
          "execution_count": 15
        }
      ]
    },
    {
      "cell_type": "markdown",
      "source": [
        "- F1 Score\n",
        "    * harmonic mean of precision and recall\n",
        "    * 2 * (P * R) / (P + R)\n",
        "    *  measure of correctness achieved in positive prediction\n",
        "    * observations labeled as positive, how many are actually positive"
      ],
      "metadata": {
        "id": "9ATVE6dzykeM"
      }
    },
    {
      "cell_type": "code",
      "source": [
        "cross_val_score(logit, X, y, scoring=\"f1\")"
      ],
      "metadata": {
        "colab": {
          "base_uri": "https://localhost:8080/"
        },
        "id": "0S1CBLzsybQl",
        "outputId": "2daccf7c-4395-4e94-fc38-bc106aa49621"
      },
      "execution_count": 16,
      "outputs": [
        {
          "output_type": "execute_result",
          "data": {
            "text/plain": [
              "array([0.88059701, 0.87069396, 0.87512588, 0.86336032, 0.86141575])"
            ]
          },
          "metadata": {},
          "execution_count": 16
        }
      ]
    },
    {
      "cell_type": "code",
      "source": [
        "from sklearn.model_selection import train_test_split\n",
        "from sklearn.metrics import accuracy_score\n",
        "\n",
        "X_train, X_test, y_train, y_test = train_test_split(X,\n",
        "                                                    y,\n",
        "                                                    test_size=0.2,\n",
        "                                                    random_state=42)\n",
        "\n",
        "y_hat = logit.fit(X_train, y_train).predict(X_test)\n",
        "\n",
        "accuracy_score(y_test, y_hat)"
      ],
      "metadata": {
        "colab": {
          "base_uri": "https://localhost:8080/"
        },
        "id": "K1hRh4hyzwO5",
        "outputId": "79cb3ce4-268e-4fc8-f14f-35d74b9289e8"
      },
      "execution_count": 17,
      "outputs": [
        {
          "output_type": "execute_result",
          "data": {
            "text/plain": [
              "0.866"
            ]
          },
          "metadata": {},
          "execution_count": 17
        }
      ]
    },
    {
      "cell_type": "markdown",
      "source": [
        "#Evaluating Binary Classifier Thresholds"
      ],
      "metadata": {
        "id": "xjR3WlYV96cf"
      }
    },
    {
      "cell_type": "code",
      "source": [
        "# evaluate a binary classifier and various probability thresholds.\n",
        "\n",
        "import matplotlib.pyplot as plt\n",
        "from sklearn.datasets import make_classification\n",
        "from sklearn.linear_model import LogisticRegression\n",
        "from sklearn.metrics import roc_curve, roc_auc_score\n",
        "from sklearn.model_selection import train_test_split\n",
        "\n",
        "features, target = make_classification(n_samples=10000,\n",
        "                                       n_features=10,\n",
        "                                       n_classes=2,\n",
        "                                       n_informative=3,\n",
        "                                       random_state=42)\n",
        "\n",
        "f_train, f_test, t_train, t_test = train_test_split(features, target, test_size=0.2, random_state=42)\n",
        "\n",
        "logit = LogisticRegression()\n",
        "\n",
        "logit.fit(f_train, t_train)\n",
        "\n",
        "target_probabilities = logit.predict_proba(f_test)[:, 1]\n",
        "\n",
        "false_positive_rate, true_positive_rate, threshold = roc_curve(t_test, target_probabilities)\n",
        "\n",
        "plt.title(\"Receiver Operating Characteristic\")\n",
        "plt.plot(false_positive_rate, true_positive_rate)\n",
        "plt.plot([0, 1], ls=\"--\")\n",
        "plt.plot([0, 0], [1, 0], c=\".7\")\n",
        "plt.plot([1, 1], c=\".7\")\n",
        "plt.ylabel(\"True Positive Rate\")\n",
        "plt.xlabel(\"Fasle Positvie Rate\")\n",
        "plt.show()"
      ],
      "metadata": {
        "colab": {
          "base_uri": "https://localhost:8080/",
          "height": 472
        },
        "id": "m9aoh9HQ9r-R",
        "outputId": "8a8e21cd-4636-4c50-ad45-a27e47554a6c"
      },
      "execution_count": 19,
      "outputs": [
        {
          "output_type": "display_data",
          "data": {
            "text/plain": [
              "<Figure size 640x480 with 1 Axes>"
            ],
            "image/png": "[encoded data removed]"
          },
          "metadata": {}
        }
      ]
    },
    {
      "cell_type": "markdown",
      "source": [
        "* ROC compares the presence of true positives and false positives at every probability threshold (i.e., the probability at which an observation is predicted to be a class)"
      ],
      "metadata": {
        "id": "aUivTXdxGmfA"
      }
    },
    {
      "cell_type": "code",
      "source": [
        "logit.predict_proba(f_test)[0:1]"
      ],
      "metadata": {
        "colab": {
          "base_uri": "https://localhost:8080/"
        },
        "id": "Y1AdJbBEGlxl",
        "outputId": "225b2335-bb48-49ae-f3e0-67333e62b92b"
      },
      "execution_count": 20,
      "outputs": [
        {
          "output_type": "execute_result",
          "data": {
            "text/plain": [
              "array([[0.09976066, 0.90023934]])"
            ]
          },
          "metadata": {},
          "execution_count": 20
        }
      ]
    },
    {
      "cell_type": "code",
      "source": [
        "logit.classes_"
      ],
      "metadata": {
        "colab": {
          "base_uri": "https://localhost:8080/"
        },
        "id": "ItYXNcHnHNYH",
        "outputId": "56206679-2b5b-4912-8fa0-5db8fa4b5c94"
      },
      "execution_count": 21,
      "outputs": [
        {
          "output_type": "execute_result",
          "data": {
            "text/plain": [
              "array([0, 1])"
            ]
          },
          "metadata": {},
          "execution_count": 21
        }
      ]
    },
    {
      "cell_type": "markdown",
      "source": [
        "- true positive rate (TPR)\n",
        "    * TP / (TP + FN)\n",
        "\n",
        "-  false positive rate (FPR)\n",
        "    * FP / (FP + TN)"
      ],
      "metadata": {
        "id": "fUNPiSdlH4VS"
      }
    },
    {
      "cell_type": "code",
      "source": [
        "print(threshold[124])\n",
        "print(true_positive_rate[124])\n",
        "print(false_positive_rate[124])"
      ],
      "metadata": {
        "colab": {
          "base_uri": "https://localhost:8080/"
        },
        "id": "Eg7Md42KIUyq",
        "outputId": "6e9990f2-58ce-4325-9aaa-529704cae221"
      },
      "execution_count": 23,
      "outputs": [
        {
          "output_type": "stream",
          "name": "stdout",
          "text": [
            "0.600203548531032\n",
            "0.8425275827482447\n",
            "0.0897308075772682\n"
          ]
        }
      ]
    },
    {
      "cell_type": "code",
      "source": [
        "print(threshold[19])\n",
        "print(true_positive_rate[19])\n",
        "print(false_positive_rate[19])"
      ],
      "metadata": {
        "colab": {
          "base_uri": "https://localhost:8080/"
        },
        "id": "wQo9N2h5K8nQ",
        "outputId": "7e87cbb2-f14a-43ad-e471-42ad000a8885"
      },
      "execution_count": 26,
      "outputs": [
        {
          "output_type": "stream",
          "name": "stdout",
          "text": [
            "0.9002173334889315\n",
            "0.5787362086258776\n",
            "0.00897308075772682\n"
          ]
        }
      ]
    },
    {
      "cell_type": "code",
      "source": [
        "# The closer the AUC ROC is to 1, the better the model.\n",
        "\n",
        "roc_auc_score(t_test, target_probabilities)"
      ],
      "metadata": {
        "colab": {
          "base_uri": "https://localhost:8080/"
        },
        "id": "9-XZeGVrL5o3",
        "outputId": "7aa08edb-ecf0-4ce0-a13c-3cd1c1fe29b9"
      },
      "execution_count": 28,
      "outputs": [
        {
          "output_type": "execute_result",
          "data": {
            "text/plain": [
              "0.9510275592480332"
            ]
          },
          "metadata": {},
          "execution_count": 28
        }
      ]
    },
    {
      "cell_type": "markdown",
      "source": [
        "#Evaluating Multiclass Classifier Predictions\n"
      ],
      "metadata": {
        "id": "b0EmGKd8OtQa"
      }
    },
    {
      "cell_type": "code",
      "source": [
        "#You have a model that predicts three or more classes and want to evaluate the model’s performance.\n",
        "\n",
        "from sklearn.model_selection import cross_val_score\n",
        "from sklearn.linear_model import LogisticRegression\n",
        "from sklearn.datasets import make_classification\n",
        "\n",
        "features, target = make_classification(n_samples=10000,\n",
        "                                        n_features=3,\n",
        "                                       n_informative=3,\n",
        "                                       n_redundant=0,\n",
        "                                       n_classes=3,\n",
        "                                       random_state=1)\n",
        "\n",
        "logit = LogisticRegression()\n",
        "\n",
        "cross_val_score(logit, features, target, scoring=\"accuracy\")"
      ],
      "metadata": {
        "colab": {
          "base_uri": "https://localhost:8080/"
        },
        "id": "48EXRCnWMY7v",
        "outputId": "0f03e182-bb6e-4cca-c945-e4f52cc8c995"
      },
      "execution_count": 29,
      "outputs": [
        {
          "output_type": "execute_result",
          "data": {
            "text/plain": [
              "array([0.8405, 0.829 , 0.827 , 0.8155, 0.8205])"
            ]
          },
          "metadata": {},
          "execution_count": 29
        }
      ]
    },
    {
      "cell_type": "code",
      "source": [
        "cross_val_score(logit, features, target, scoring=\"f1_macro\")"
      ],
      "metadata": {
        "colab": {
          "base_uri": "https://localhost:8080/"
        },
        "id": "b2DtNmkXPdP1",
        "outputId": "fb9e1e7f-3e57-433e-a256-ddfaf41e7958"
      },
      "execution_count": 30,
      "outputs": [
        {
          "output_type": "execute_result",
          "data": {
            "text/plain": [
              "array([0.84012014, 0.82895312, 0.82675308, 0.81515121, 0.82042629])"
            ]
          },
          "metadata": {},
          "execution_count": 30
        }
      ]
    },
    {
      "cell_type": "markdown",
      "source": [
        "* macro - Calculate the mean of metric scores for each class, weighting each class equally.\n",
        "* weighted - Calculate the mean of metric scores for each class, weighting each class proportional to its size in the data.\n",
        "* micro -Calculate the mean of metric scores for each observation-class combination"
      ],
      "metadata": {
        "id": "MFfXDGqlQJRV"
      }
    },
    {
      "cell_type": "markdown",
      "source": [
        "#Visualizing a Classifier’s Performance"
      ],
      "metadata": {
        "id": "OVDWMVl0QdKh"
      }
    },
    {
      "cell_type": "code",
      "source": [
        "#Given predicted classes and true classes of the test data, you want to visually compare the model’s quality.\n",
        "\n",
        "import matplotlib.pyplot as plt\n",
        "import seaborn as sns\n",
        "from sklearn import datasets\n",
        "from sklearn.linear_model import LogisticRegression\n",
        "from sklearn.model_selection import train_test_split\n",
        "from sklearn.metrics import confusion_matrix\n",
        "\n",
        "iris = datasets.load_iris()\n",
        "\n",
        "features, target = iris.data, iris.target\n",
        "\n",
        "class_names = iris.target_names\n",
        "\n",
        "f_train, f_test, t_train, t_test = train_test_split(features, target, random_state=42)\n",
        "\n",
        "classifier = LogisticRegression()\n",
        "\n",
        "target_predicted = classifier.fit(f_train, t_train).predict(f_test)\n",
        "\n",
        "matrix = confusion_matrix(t_test, target_predicted)\n",
        "\n",
        "df = pd.DataFrame(matrix, index=class_names, columns=class_names)\n",
        "\n",
        "sns.heatmap(df, annot=True, cbar=None, cmap=\"Blues\")\n",
        "plt.title(\"Confusion Matrix\")\n",
        "plt.tight_layout()\n",
        "plt.ylabel(\"True Class\")\n",
        "plt.xlabel(\"Predicted Class\")\n",
        "plt.show()"
      ],
      "metadata": {
        "colab": {
          "base_uri": "https://localhost:8080/",
          "height": 506
        },
        "id": "J-cJbK1mQDxJ",
        "outputId": "b084151a-5521-4a62-9940-e3e284844333"
      },
      "execution_count": 31,
      "outputs": [
        {
          "output_type": "display_data",
          "data": {
            "text/plain": [
              "<Figure size 640x480 with 1 Axes>"
            ],
            "image/png": "[encoded data removed]"
          },
          "metadata": {}
        }
      ]
    },
    {
      "cell_type": "markdown",
      "source": [
        "\n",
        "\n",
        "1. a perfect model will have values along the diagonal and zeros everywhere else\n",
        "2. a confusion matrix lets us see not only where the model was wrong but also how it was wrong.\n",
        "3. confusion matrices work with any number of classes\n"
      ],
      "metadata": {
        "id": "ts4BJSlwS_Bl"
      }
    },
    {
      "cell_type": "markdown",
      "source": [
        "#Evaluating Regression Models"
      ],
      "metadata": {
        "id": "0DIhw8uiTfZs"
      }
    },
    {
      "cell_type": "code",
      "source": [
        "#evaluate the performance of a regression model.\n",
        "#mean squared error (MSE):\n",
        "\n",
        "from sklearn.datasets import make_regression\n",
        "from sklearn.model_selection import cross_val_score\n",
        "from sklearn.linear_model import LinearRegression\n",
        "\n",
        "features, target = make_regression(n_samples=100,\n",
        "                                   n_features=3,\n",
        "                                   n_informative=3,\n",
        "                                   n_targets=1,\n",
        "                                   noise=50,\n",
        "                                   coef=False,\n",
        "                                   random_state=1)\n",
        "\n",
        "ols = LinearRegression()\n",
        "\n",
        "cross_val_score(ols, features, target, scoring=\"neg_mean_squared_error\")"
      ],
      "metadata": {
        "colab": {
          "base_uri": "https://localhost:8080/"
        },
        "id": "sStu2SsgQj34",
        "outputId": "7246deed-a68c-4d3a-c5a0-8be44ebcb564"
      },
      "execution_count": 32,
      "outputs": [
        {
          "output_type": "execute_result",
          "data": {
            "text/plain": [
              "array([-1974.65337976, -2004.54137625, -3935.19355723, -1060.04361386,\n",
              "       -1598.74104702])"
            ]
          },
          "metadata": {},
          "execution_count": 32
        }
      ]
    },
    {
      "cell_type": "markdown",
      "source": [
        "* MSE is a measurement of the squared sum of all distances between predicted and true values\n",
        "* The higher the value of MSE, the greater the total squared error and thus the worse the model\n"
      ],
      "metadata": {
        "id": "uXbwUdSzV9AT"
      }
    },
    {
      "cell_type": "code",
      "source": [
        "#R-squared\n",
        "\n",
        "cross_val_score(ols, features, target, scoring=\"r2\")"
      ],
      "metadata": {
        "colab": {
          "base_uri": "https://localhost:8080/"
        },
        "id": "sJ-LP40xVow5",
        "outputId": "e134717a-ed7e-408d-ab0b-cb900781dc9e"
      },
      "execution_count": 33,
      "outputs": [
        {
          "output_type": "execute_result",
          "data": {
            "text/plain": [
              "array([0.8622399 , 0.85838075, 0.74723548, 0.91354743, 0.84469331])"
            ]
          },
          "metadata": {},
          "execution_count": 33
        }
      ]
    },
    {
      "cell_type": "markdown",
      "source": [
        "*  R^2 measures the amount of variance in the target vector that is explained by the model.\n",
        "* The closer that R^2 is to 1.0, the better the model."
      ],
      "metadata": {
        "id": "pDO-uUSXWxlK"
      }
    },
    {
      "cell_type": "markdown",
      "source": [
        "#Evaluating Clustering Models"
      ],
      "metadata": {
        "id": "fZFhWmR8Xbfu"
      }
    },
    {
      "cell_type": "code",
      "source": [
        "#You have used an unsupervised learning algorithm to cluster your data. Now you want to know how well it did.\n",
        "\n",
        "# silhouette coefficients\n",
        "\n",
        "from sklearn.metrics import silhouette_score\n",
        "from sklearn import datasets\n",
        "from sklearn.cluster import KMeans\n",
        "from sklearn.datasets import make_blobs\n",
        "\n",
        "features, _ = make_blobs(n_samples=100,\n",
        "                         n_features=10,\n",
        "                         centers=2,\n",
        "                         cluster_std=0.5,\n",
        "                         shuffle=True,\n",
        "                         random_state=42)\n",
        "\n",
        "model = KMeans(n_clusters=2, random_state=42).fit(features)\n",
        "\n",
        "target_predicted = model.labels_\n",
        "\n",
        "silhouette_score(features, target_predicted)"
      ],
      "metadata": {
        "colab": {
          "base_uri": "https://localhost:8080/"
        },
        "id": "cXervnWgVxF5",
        "outputId": "f99ff9c5-d433-4dd5-a448-c1d6c51939df"
      },
      "execution_count": 34,
      "outputs": [
        {
          "output_type": "execute_result",
          "data": {
            "text/plain": [
              "0.8695255299401942"
            ]
          },
          "metadata": {},
          "execution_count": 34
        }
      ]
    },
    {
      "cell_type": "markdown",
      "source": [
        "* “good” clusters having very small distances between observations in the same cluster (i.e., dense clusters) and large distances between the different clusters (i.e., well-separated clusters).\n",
        "* Silhouette coefficients range between –1 and 1, with 1 indicating dense, well-separated clusters."
      ],
      "metadata": {
        "id": "kSJL_zL8ZLV9"
      }
    },
    {
      "cell_type": "markdown",
      "source": [
        "#Creating a Custom Evaluation Metric"
      ],
      "metadata": {
        "id": "nviBXzKzZqiE"
      }
    },
    {
      "cell_type": "code",
      "source": [
        "from sklearn.metrics import make_scorer, r2_score\n",
        "from sklearn.model_selection import train_test_split\n",
        "from sklearn.linear_model import Ridge\n",
        "from sklearn.datasets import make_regression\n",
        "\n",
        "features, target = make_regression(n_samples=100,\n",
        "                                   n_features=3,\n",
        "                                   random_state=42)\n",
        "\n",
        "f_train, f_test, t_train, t_test = train_test_split(features, target, test_size=0.2, random_state=42)\n",
        "\n",
        "def custom_metric(t_test, target_predicted):\n",
        "    r2 = r2_score(t_test, target_predicted)\n",
        "    return r2\n",
        "\n",
        "score = make_scorer(custom_metric, greater_is_better=True)\n",
        "\n",
        "classifier = Ridge()\n",
        "\n",
        "model = classifier.fit(f_train, t_train)\n",
        "\n",
        "score(model, f_test, t_test)"
      ],
      "metadata": {
        "colab": {
          "base_uri": "https://localhost:8080/"
        },
        "id": "xgmcT1KJVxBe",
        "outputId": "694f7b4d-c51a-43b5-8b21-d1c932750f89"
      },
      "execution_count": 35,
      "outputs": [
        {
          "output_type": "execute_result",
          "data": {
            "text/plain": [
              "0.9997747579184906"
            ]
          },
          "metadata": {},
          "execution_count": 35
        }
      ]
    },
    {
      "cell_type": "code",
      "source": [
        "target_predicted = model.predict(f_test)\n",
        "r2_score(t_test, target_predicted)"
      ],
      "metadata": {
        "colab": {
          "base_uri": "https://localhost:8080/"
        },
        "id": "MDfnDFrPbbXZ",
        "outputId": "55fcb030-467d-42aa-f042-517bdd57cef8"
      },
      "execution_count": 36,
      "outputs": [
        {
          "output_type": "execute_result",
          "data": {
            "text/plain": [
              "0.9997747579184906"
            ]
          },
          "metadata": {},
          "execution_count": 36
        }
      ]
    },
    {
      "cell_type": "markdown",
      "source": [
        "#Visualizing the Effect of Training Set Size"
      ],
      "metadata": {
        "id": "FqvzOyzVbxPQ"
      }
    },
    {
      "cell_type": "code",
      "source": [
        "import matplotlib.pyplot as plt\n",
        "from sklearn.ensemble import RandomForestClassifier\n",
        "from sklearn.datasets import load_digits\n",
        "from sklearn.model_selection import learning_curve\n",
        "\n",
        "digits = load_digits()\n",
        "\n",
        "features, target = digits.data, digits.target\n",
        "\n",
        "train_sizes, train_scores, test_scores = learning_curve(RandomForestClassifier(),\n",
        "                                                        features,\n",
        "                                                        target,\n",
        "                                                        cv=10,\n",
        "                                                        scoring=\"accuracy\",\n",
        "                                                        n_jobs=-1,\n",
        "                                                        train_sizes=np.linspace(\n",
        "                                                            0.01,\n",
        "                                                            1.0,\n",
        "                                                            50\n",
        "                                                        ))\n",
        "\n",
        "train_mean = np.mean(train_scores, axis=1)\n",
        "train_std = np.std(train_scores, axis=1)\n",
        "\n",
        "test_mean = np.mean(test_scores, axis=1)\n",
        "test_std = np.std(test_scores, axis=1)\n",
        "\n",
        "plt.plot(train_sizes, train_mean, '--', color=\"#111111\", label=\"Training Score\")\n",
        "plt.plot(train_sizes, test_mean, color=\"#111111\", label=\"Cross-validation Score\")\n",
        "\n",
        "plt.fill_between(train_sizes, train_mean - train_std, train_mean + train_std, color=\"#DDDDDD\")\n",
        "plt.fill_between(train_sizes, test_mean - test_std, test_mean + test_std, color=\"#DDDDDD\")\n",
        "\n",
        "plt.title(\"Learning Curve\")\n",
        "plt.xlabel(\"Training Set Size\")\n",
        "plt.ylabel(\"Accuracy Score\")\n",
        "plt.legend(loc=\"best\")\n",
        "plt.tight_layout()\n",
        "plt.show()"
      ],
      "metadata": {
        "colab": {
          "base_uri": "https://localhost:8080/",
          "height": 487
        },
        "id": "cuqP7It4cIo4",
        "outputId": "701ccfc8-0622-4288-9458-7a297698ad59"
      },
      "execution_count": 37,
      "outputs": [
        {
          "output_type": "display_data",
          "data": {
            "text/plain": [
              "<Figure size 640x480 with 1 Axes>"
            ],
            "image/png": "[encoded data removed]"
          },
          "metadata": {}
        }
      ]
    },
    {
      "cell_type": "markdown",
      "source": [
        "#Creating a Text Report of Evaluation Metrics"
      ],
      "metadata": {
        "id": "0k3qqDcKhc-m"
      }
    },
    {
      "cell_type": "code",
      "source": [
        "from sklearn import datasets\n",
        "from sklearn.linear_model import LogisticRegression\n",
        "from sklearn.model_selection import train_test_split\n",
        "from sklearn.metrics import classification_report\n",
        "\n",
        "iris = datasets.load_iris()\n",
        "\n",
        "features, target = iris.data, iris.target\n",
        "\n",
        "class_names = iris.target_names\n",
        "\n",
        "f_train, f_test, t_train, t_test = train_test_split(features, target, random_state=42)\n",
        "\n",
        "classifier = LogisticRegression()\n",
        "\n",
        "model = classifier.fit(f_train, t_train)\n",
        "\n",
        "target_predicted = model.predict(f_test)\n",
        "\n",
        "print(classification_report(t_test,\n",
        "                            target_predicted,\n",
        "                            target_names=class_names))"
      ],
      "metadata": {
        "colab": {
          "base_uri": "https://localhost:8080/"
        },
        "id": "TZBJ88_9g_Ex",
        "outputId": "822b9a9b-313b-4113-ad85-7edaa687ed57"
      },
      "execution_count": 41,
      "outputs": [
        {
          "output_type": "stream",
          "name": "stdout",
          "text": [
            "              precision    recall  f1-score   support\n",
            "\n",
            "      setosa       1.00      1.00      1.00        15\n",
            "  versicolor       1.00      1.00      1.00        11\n",
            "   virginica       1.00      1.00      1.00        12\n",
            "\n",
            "    accuracy                           1.00        38\n",
            "   macro avg       1.00      1.00      1.00        38\n",
            "weighted avg       1.00      1.00      1.00        38\n",
            "\n"
          ]
        }
      ]
    },
    {
      "cell_type": "markdown",
      "source": [
        "#Visualizing the Effect of Hyperparameter Values"
      ],
      "metadata": {
        "id": "ZFTD4JKSjVHr"
      }
    },
    {
      "cell_type": "code",
      "source": [
        "import matplotlib.pyplot as plt\n",
        "from sklearn.datasets import load_digits\n",
        "from sklearn.ensemble import RandomForestClassifier\n",
        "from sklearn.model_selection import validation_curve\n",
        "\n",
        "digits = load_digits()\n",
        "\n",
        "features, target = digits.data, digits.target\n",
        "\n",
        "param_range = np.arange(1, 250, 2)\n",
        "\n",
        "train_scores, test_scores = validation_curve(RandomForestClassifier(),\n",
        "                                             features,\n",
        "                                             target,\n",
        "                                             param_name=\"n_estimators\",\n",
        "                                             param_range=param_range,\n",
        "                                             cv=3,\n",
        "                                             scoring=\"accuracy\",\n",
        "                                             n_jobs=-1)\n",
        "\n",
        "train_mean = np.mean(train_scores, axis=1)\n",
        "train_std = np.std(train_scores, axis=1)\n",
        "\n",
        "test_mean = np.mean(test_scores, axis=1)\n",
        "test_std = np.std(test_scores, axis=1)\n",
        "\n",
        "plt.plot(param_range, train_mean, label=\"Training Score\", color=\"black\")\n",
        "plt.plot(param_range, test_mean, label=\"Cross-validation Score\", color=\"dimgrey\")\n",
        "\n",
        "plt.fill_between(param_range, train_mean - train_std, train_mean + train_std, color=\"gray\")\n",
        "plt.fill_between(param_range, test_mean - test_std, test_mean + test_std, color=\"gainsboro\")\n",
        "\n",
        "plt.title(\"Validation Curve with Random Forest\")\n",
        "plt.xlabel(\"Number of Trees\")\n",
        "plt.ylabel(\"Accuracy Scores\")\n",
        "plt.tight_layout()\n",
        "plt.legend(loc=\"best\")\n",
        "plt.show()\n"
      ],
      "metadata": {
        "colab": {
          "base_uri": "https://localhost:8080/",
          "height": 487
        },
        "id": "U7kkhYfSjUwd",
        "outputId": "b95a86ac-88fe-4515-f4bb-3a9c067b767c"
      },
      "execution_count": 47,
      "outputs": [
        {
          "output_type": "display_data",
          "data": {
            "text/plain": [
              "<Figure size 640x480 with 1 Axes>"
            ],
            "image/png": "[encoded data removed]"
          },
          "metadata": {}
        }
      ]
    }
  ]
}