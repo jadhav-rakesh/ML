{
  "nbformat": 4,
  "nbformat_minor": 0,
  "metadata": {
    "colab": {
      "provenance": [],
      "authorship_tag": "ABX9TyOw+OIrcaYJg3Iz7h9dWomC",
      "include_colab_link": true
    },
    "kernelspec": {
      "name": "python3",
      "display_name": "Python 3"
    },
    "language_info": {
      "name": "python"
    }
  },
  "cells": [
    {
      "cell_type": "markdown",
      "metadata": {
        "id": "view-in-github",
        "colab_type": "text"
      },
      "source": [
        "<a href=\"https://colab.research.google.com/github/jadhav-rakesh/ML/blob/main/ds12.ipynb\" target=\"_parent\"><img src=\"https://colab.research.google.com/assets/colab-badge.svg\" alt=\"Open In Colab\"/></a>"
      ]
    },
    {
      "cell_type": "markdown",
      "source": [
        "#Model Selection"
      ],
      "metadata": {
        "id": "EdczrKPIpCUc"
      }
    },
    {
      "cell_type": "code",
      "execution_count": 1,
      "metadata": {
        "id": "_bthNIVDo3sQ"
      },
      "outputs": [],
      "source": [
        "import numpy as np\n",
        "import pandas as pd"
      ]
    },
    {
      "cell_type": "markdown",
      "source": [
        "#Selecting the Best Models Using Exhaustive Search"
      ],
      "metadata": {
        "id": "ZBsj2LU7qFQN"
      }
    },
    {
      "cell_type": "code",
      "source": [
        "#select the best model by searching over a range of hyperparameters.\n",
        "\n",
        "from sklearn import linear_model, datasets\n",
        "from sklearn.model_selection import GridSearchCV\n",
        "\n",
        "iris = datasets.load_iris()\n",
        "\n",
        "features, target = iris.data, iris.target\n",
        "\n",
        "logistic = linear_model.LogisticRegression(max_iter=500, solver=\"liblinear\")\n",
        "\n",
        "penalty = [\"l1\", \"l2\"]\n",
        "\n",
        "C = np.logspace(0, 4, 10)\n",
        "\n",
        "hyperparameters = dict(C=C, penalty=penalty)\n",
        "\n",
        "gridsearch = GridSearchCV(logistic, hyperparameters, cv=5, verbose=0)\n",
        "\n",
        "best_model = gridsearch.fit(features, target)\n",
        "\n",
        "print(best_model.best_estimator_)"
      ],
      "metadata": {
        "colab": {
          "base_uri": "https://localhost:8080/"
        },
        "id": "N0fnQtVjpJKm",
        "outputId": "92038f24-8d03-420c-b3db-cf52b3061e90"
      },
      "execution_count": 3,
      "outputs": [
        {
          "output_type": "stream",
          "name": "stdout",
          "text": [
            "LogisticRegression(C=7.742636826811269, max_iter=500, penalty='l1',\n",
            "                   solver='liblinear')\n"
          ]
        }
      ]
    },
    {
      "cell_type": "markdown",
      "source": [
        "* GridSearchCV is a brute-force approach to model selection using cross-validation\n",
        "*"
      ],
      "metadata": {
        "id": "KVv40m3arjT-"
      }
    },
    {
      "cell_type": "code",
      "source": [
        "print(best_model.best_estimator_.get_params()[\"penalty\"])\n",
        "print(best_model.best_estimator_.get_params()[\"C\"])"
      ],
      "metadata": {
        "colab": {
          "base_uri": "https://localhost:8080/"
        },
        "id": "eYA9F6b2sPam",
        "outputId": "49017f68-adfe-461e-9c23-2729be12e43c"
      },
      "execution_count": 6,
      "outputs": [
        {
          "output_type": "stream",
          "name": "stdout",
          "text": [
            "l1\n",
            "7.742636826811269\n"
          ]
        }
      ]
    },
    {
      "cell_type": "code",
      "source": [
        "best_model.predict(features)"
      ],
      "metadata": {
        "colab": {
          "base_uri": "https://localhost:8080/"
        },
        "id": "yx7oGUxys298",
        "outputId": "c306796e-dc6c-4f99-e0f2-05429cb6ae3e"
      },
      "execution_count": 7,
      "outputs": [
        {
          "output_type": "execute_result",
          "data": {
            "text/plain": [
              "array([0, 0, 0, 0, 0, 0, 0, 0, 0, 0, 0, 0, 0, 0, 0, 0, 0, 0, 0, 0, 0, 0,\n",
              "       0, 0, 0, 0, 0, 0, 0, 0, 0, 0, 0, 0, 0, 0, 0, 0, 0, 0, 0, 0, 0, 0,\n",
              "       0, 0, 0, 0, 0, 0, 1, 1, 1, 1, 1, 1, 1, 1, 1, 1, 1, 1, 1, 1, 1, 1,\n",
              "       1, 1, 1, 1, 2, 1, 1, 1, 1, 1, 1, 1, 1, 1, 1, 1, 1, 2, 1, 1, 1, 1,\n",
              "       1, 1, 1, 1, 1, 1, 1, 1, 1, 1, 1, 1, 2, 2, 2, 2, 2, 2, 2, 2, 2, 2,\n",
              "       2, 2, 2, 2, 2, 2, 2, 2, 2, 2, 2, 2, 2, 2, 2, 2, 2, 2, 2, 2, 2, 2,\n",
              "       2, 1, 2, 2, 2, 2, 2, 2, 2, 2, 2, 2, 2, 2, 2, 2, 2, 2])"
            ]
          },
          "metadata": {},
          "execution_count": 7
        }
      ]
    },
    {
      "cell_type": "markdown",
      "source": [
        "#Selecting the Best Models Using Randomized Search"
      ],
      "metadata": {
        "id": "SL1GNCTQtJBP"
      }
    },
    {
      "cell_type": "code",
      "source": [
        "from scipy.stats import uniform\n",
        "from sklearn import linear_model, datasets\n",
        "from sklearn.model_selection import RandomizedSearchCV\n",
        "\n",
        "iris = datasets.load_iris()\n",
        "\n",
        "features, target = iris.data, iris.target\n",
        "\n",
        "logistic = linear_model.LogisticRegression(max_iter=500, solver=\"liblinear\")\n",
        "\n",
        "penalty = [\"l1\", \"l2\"]\n",
        "\n",
        "C = uniform(loc=0, scale=4)\n",
        "\n",
        "hyperparameters = dict(C=C, penalty=penalty)\n",
        "\n",
        "randomizedsearch = RandomizedSearchCV(logistic,\n",
        "                                      hyperparameters,\n",
        "                                      random_state=42, n_iter=100,\n",
        "                                      cv=5,\n",
        "                                      verbose=0)\n",
        "\n",
        "best_model = randomizedsearch.fit(features, target)"
      ],
      "metadata": {
        "id": "8KVj1T2YtMgy"
      },
      "execution_count": 9,
      "outputs": []
    },
    {
      "cell_type": "code",
      "source": [
        "print(best_model.best_estimator_)"
      ],
      "metadata": {
        "colab": {
          "base_uri": "https://localhost:8080/"
        },
        "id": "4Znsb9FDubDr",
        "outputId": "7932140f-9261-4208-edc9-ab1ba2e63fb2"
      },
      "execution_count": 10,
      "outputs": [
        {
          "output_type": "stream",
          "name": "stdout",
          "text": [
            "LogisticRegression(C=1.49816047538945, max_iter=500, penalty='l1',\n",
            "                   solver='liblinear')\n"
          ]
        }
      ]
    },
    {
      "cell_type": "code",
      "source": [
        "uniform(loc=0, scale=4).rvs(10)"
      ],
      "metadata": {
        "colab": {
          "base_uri": "https://localhost:8080/"
        },
        "id": "8xj1LlLxuvLo",
        "outputId": "82d20135-d691-4965-946e-839077181ebc"
      },
      "execution_count": 11,
      "outputs": [
        {
          "output_type": "execute_result",
          "data": {
            "text/plain": [
              "array([0.04951994, 2.97332351, 1.40374119, 2.11573469, 3.21565657,\n",
              "       1.17080252, 1.50736275, 3.18840785, 1.79310404, 2.31265585])"
            ]
          },
          "metadata": {},
          "execution_count": 11
        }
      ]
    },
    {
      "cell_type": "code",
      "source": [
        "print(best_model.best_estimator_.get_params()[\"penalty\"])\n",
        "print(best_model.best_estimator_.get_params()[\"C\"])"
      ],
      "metadata": {
        "colab": {
          "base_uri": "https://localhost:8080/"
        },
        "id": "GF5mmn67u7xD",
        "outputId": "865f9a7d-e24a-4b45-9f0e-7b8ac6f037aa"
      },
      "execution_count": 12,
      "outputs": [
        {
          "output_type": "stream",
          "name": "stdout",
          "text": [
            "l1\n",
            "1.49816047538945\n"
          ]
        }
      ]
    },
    {
      "cell_type": "code",
      "source": [
        "best_model.predict(features)"
      ],
      "metadata": {
        "colab": {
          "base_uri": "https://localhost:8080/"
        },
        "id": "-hraC_DRvLCW",
        "outputId": "dfb6fbba-c4d9-4627-a960-5e677facc6c0"
      },
      "execution_count": 13,
      "outputs": [
        {
          "output_type": "execute_result",
          "data": {
            "text/plain": [
              "array([0, 0, 0, 0, 0, 0, 0, 0, 0, 0, 0, 0, 0, 0, 0, 0, 0, 0, 0, 0, 0, 0,\n",
              "       0, 0, 0, 0, 0, 0, 0, 0, 0, 0, 0, 0, 0, 0, 0, 0, 0, 0, 0, 0, 0, 0,\n",
              "       0, 0, 0, 0, 0, 0, 1, 1, 1, 1, 1, 1, 1, 1, 1, 1, 1, 1, 1, 1, 1, 1,\n",
              "       1, 1, 1, 1, 2, 1, 1, 1, 1, 1, 1, 1, 1, 1, 1, 1, 1, 2, 2, 1, 1, 1,\n",
              "       1, 1, 1, 1, 1, 1, 1, 1, 1, 1, 1, 1, 2, 2, 2, 2, 2, 2, 2, 2, 2, 2,\n",
              "       2, 2, 2, 2, 2, 2, 2, 2, 2, 2, 2, 2, 2, 2, 2, 2, 2, 2, 2, 1, 2, 2,\n",
              "       2, 1, 2, 2, 2, 2, 2, 2, 2, 2, 2, 2, 2, 2, 2, 2, 2, 2])"
            ]
          },
          "metadata": {},
          "execution_count": 13
        }
      ]
    },
    {
      "cell_type": "markdown",
      "source": [
        "#Selecting the Best Models from Multiple Learning Algorithms"
      ],
      "metadata": {
        "id": "187XAqPGvZ_a"
      }
    },
    {
      "cell_type": "code",
      "source": [
        "from sklearn import datasets\n",
        "from sklearn.linear_model import LogisticRegression\n",
        "from sklearn.ensemble import RandomForestClassifier\n",
        "from sklearn.model_selection import GridSearchCV\n",
        "from sklearn.pipeline import Pipeline\n",
        "\n",
        "np.random.seed(42)\n",
        "\n",
        "iris = datasets.load_iris()\n",
        "\n",
        "features, target = iris.data, iris.target\n",
        "\n",
        "pipe = Pipeline([(\"classifier\", RandomForestClassifier())])\n",
        "\n",
        "search_space = [{\"classifier\": [LogisticRegression(max_iter=500, solver=\"liblinear\")],\n",
        "                 \"classifier__penalty\": [\"l1\", \"l2\"],\n",
        "                 \"classifier__C\": np.logspace(0, 4, 10)},\n",
        "                {\"classifier\":[RandomForestClassifier()],\n",
        "                 \"classifier__n_estimators\": [10, 100, 1000],\n",
        "                 \"classifier__max_features\":[1, 2, 3]}]\n",
        "\n",
        "gridsearch = GridSearchCV(pipe, search_space, cv=5, verbose=0)\n",
        "\n",
        "best_model = gridsearch.fit(features, target)\n",
        "\n",
        "print(best_model.best_estimator_)\n"
      ],
      "metadata": {
        "colab": {
          "base_uri": "https://localhost:8080/"
        },
        "id": "cHBQ5Ws7vSE0",
        "outputId": "cdaf2867-c107-4c9b-f083-db28dfa84a71"
      },
      "execution_count": 16,
      "outputs": [
        {
          "output_type": "stream",
          "name": "stdout",
          "text": [
            "Pipeline(steps=[('classifier',\n",
            "                 LogisticRegression(C=7.742636826811269, max_iter=500,\n",
            "                                    penalty='l1', solver='liblinear'))])\n"
          ]
        }
      ]
    },
    {
      "cell_type": "code",
      "source": [
        "print(best_model.best_estimator_.get_params()[\"classifier\"])"
      ],
      "metadata": {
        "colab": {
          "base_uri": "https://localhost:8080/"
        },
        "id": "hOopHw7B0ai8",
        "outputId": "e3867ab0-53fb-41da-cdd4-c49de34a2187"
      },
      "execution_count": 17,
      "outputs": [
        {
          "output_type": "stream",
          "name": "stdout",
          "text": [
            "LogisticRegression(C=7.742636826811269, max_iter=500, penalty='l1',\n",
            "                   solver='liblinear')\n"
          ]
        }
      ]
    },
    {
      "cell_type": "code",
      "source": [
        "best_model.predict(features)"
      ],
      "metadata": {
        "colab": {
          "base_uri": "https://localhost:8080/"
        },
        "id": "xlwVdAPd0msb",
        "outputId": "ca013e39-627d-452e-912c-6105cb30cc9b"
      },
      "execution_count": 18,
      "outputs": [
        {
          "output_type": "execute_result",
          "data": {
            "text/plain": [
              "array([0, 0, 0, 0, 0, 0, 0, 0, 0, 0, 0, 0, 0, 0, 0, 0, 0, 0, 0, 0, 0, 0,\n",
              "       0, 0, 0, 0, 0, 0, 0, 0, 0, 0, 0, 0, 0, 0, 0, 0, 0, 0, 0, 0, 0, 0,\n",
              "       0, 0, 0, 0, 0, 0, 1, 1, 1, 1, 1, 1, 1, 1, 1, 1, 1, 1, 1, 1, 1, 1,\n",
              "       1, 1, 1, 1, 2, 1, 1, 1, 1, 1, 1, 1, 1, 1, 1, 1, 1, 2, 1, 1, 1, 1,\n",
              "       1, 1, 1, 1, 1, 1, 1, 1, 1, 1, 1, 1, 2, 2, 2, 2, 2, 2, 2, 2, 2, 2,\n",
              "       2, 2, 2, 2, 2, 2, 2, 2, 2, 2, 2, 2, 2, 2, 2, 2, 2, 2, 2, 2, 2, 2,\n",
              "       2, 1, 2, 2, 2, 2, 2, 2, 2, 2, 2, 2, 2, 2, 2, 2, 2, 2])"
            ]
          },
          "metadata": {},
          "execution_count": 18
        }
      ]
    },
    {
      "cell_type": "markdown",
      "source": [
        "#Selecting the Best Models When Preprocessing"
      ],
      "metadata": {
        "id": "Nu9czyZL0shB"
      }
    },
    {
      "cell_type": "code",
      "source": [
        "from re import L\n",
        "#include a preprocessing step during model selection.\n",
        "\n",
        "from sklearn import datasets\n",
        "from sklearn.linear_model import LogisticRegression\n",
        "from sklearn.model_selection import GridSearchCV\n",
        "from sklearn.pipeline import Pipeline, FeatureUnion\n",
        "from sklearn.decomposition import PCA\n",
        "from sklearn.preprocessing import StandardScaler\n",
        "\n",
        "np.random.seed(42)\n",
        "\n",
        "iris = datasets.load_iris()\n",
        "\n",
        "features, target = iris.data, iris.target\n",
        "\n",
        "preprocess = FeatureUnion([(\"std\", StandardScaler()), (\"pca\", PCA())])\n",
        "\n",
        "pipe = Pipeline([(\"preprocess\", preprocess),\n",
        "                 (\"classifier\", LogisticRegression(max_iter=1000, solver=\"liblinear\"))])\n",
        "\n",
        "search_space = [{\"preprocess__pca__n_components\": [1, 2, 3],\n",
        "                \"classifier__penalty\": [\"l1\", \"l2\"],\n",
        "                \"classifier__C\": np.logspace(0, 4, 10)}]\n",
        "\n",
        "clf = GridSearchCV(pipe, search_space, cv=5, verbose=0, n_jobs=-1)\n",
        "\n",
        "best_model = clf.fit(features, target)\n",
        "\n",
        "print(best_model.best_estimator_)"
      ],
      "metadata": {
        "colab": {
          "base_uri": "https://localhost:8080/"
        },
        "id": "0-CXL6ln0sNX",
        "outputId": "43c3e208-9cea-48a5-ec7f-6e651e57ae15"
      },
      "execution_count": 23,
      "outputs": [
        {
          "output_type": "stream",
          "name": "stdout",
          "text": [
            "Pipeline(steps=[('preprocess',\n",
            "                 FeatureUnion(transformer_list=[('std', StandardScaler()),\n",
            "                                                ('pca', PCA(n_components=1))])),\n",
            "                ('classifier',\n",
            "                 LogisticRegression(C=7.742636826811269, max_iter=1000,\n",
            "                                    penalty='l1', solver='liblinear'))])\n"
          ]
        }
      ]
    },
    {
      "cell_type": "code",
      "source": [
        "best_model.best_estimator_.get_params()[\"preprocess__pca__n_components\"]"
      ],
      "metadata": {
        "colab": {
          "base_uri": "https://localhost:8080/"
        },
        "id": "D0PEYZrB0sDY",
        "outputId": "df7fc16a-7c7d-4875-c3d3-1040598f52eb"
      },
      "execution_count": 24,
      "outputs": [
        {
          "output_type": "execute_result",
          "data": {
            "text/plain": [
              "1"
            ]
          },
          "metadata": {},
          "execution_count": 24
        }
      ]
    },
    {
      "cell_type": "markdown",
      "source": [
        "#Speeding Up Model Selection with Parallelization"
      ],
      "metadata": {
        "id": "69Wqo4Gb5PLR"
      }
    },
    {
      "cell_type": "code",
      "source": [
        "from sklearn import linear_model, datasets\n",
        "from sklearn.model_selection import GridSearchCV\n",
        "\n",
        "iris = datasets.load_iris()\n",
        "features = iris.data\n",
        "target = iris.target\n",
        "\n",
        "logistic = linear_model.LogisticRegression(max_iter=500, solver=\"liblinear\")\n",
        "\n",
        "penality = [\"l1\", \"l2\"]\n",
        "\n",
        "C = np.logspace(0, 4, 1000)\n",
        "\n",
        "hyperparameters = dict(C=C, penalty=penalty)\n",
        "\n",
        "gridsearch = GridSearchCV(logistic, hyperparameters, cv=5, n_jobs=-1, verbose=1)\n",
        "\n",
        "best_model = gridsearch.fit(features, target)\n",
        "\n",
        "print(best_model.best_estimator_)"
      ],
      "metadata": {
        "colab": {
          "base_uri": "https://localhost:8080/"
        },
        "id": "rC2MGgcV5LLg",
        "outputId": "8d7f2f93-8c81-4475-d11c-b60207db0f6a"
      },
      "execution_count": 25,
      "outputs": [
        {
          "output_type": "stream",
          "name": "stdout",
          "text": [
            "Fitting 5 folds for each of 2000 candidates, totalling 10000 fits\n",
            "LogisticRegression(C=5.926151812475554, max_iter=500, penalty='l1',\n",
            "                   solver='liblinear')\n"
          ]
        }
      ]
    },
    {
      "cell_type": "code",
      "source": [
        "clf = GridSearchCV(logistic, hyperparameters, cv=5, n_jobs=1, verbose=1)\n",
        "\n",
        "best_model = clf.fit(features, target)\n",
        "\n",
        "print(best_model.best_estimator_)"
      ],
      "metadata": {
        "colab": {
          "base_uri": "https://localhost:8080/"
        },
        "id": "A2_cB6_W6Pfw",
        "outputId": "a36c4a5c-aa48-4c48-8d39-1d826838105b"
      },
      "execution_count": 26,
      "outputs": [
        {
          "output_type": "stream",
          "name": "stdout",
          "text": [
            "Fitting 5 folds for each of 2000 candidates, totalling 10000 fits\n",
            "LogisticRegression(C=5.926151812475554, max_iter=500, penalty='l1',\n",
            "                   solver='liblinear')\n"
          ]
        }
      ]
    },
    {
      "cell_type": "markdown",
      "source": [
        "#Speeding Up Model Selection Using Algorithm-Specific Methods"
      ],
      "metadata": {
        "id": "-k8quNKE7B3n"
      }
    },
    {
      "cell_type": "code",
      "source": [
        "from sklearn import linear_model, datasets\n",
        "\n",
        "iris = datasets.load_iris()\n",
        "\n",
        "features, target = iris.data, iris.target\n",
        "\n",
        "logit = linear_model.LogisticRegressionCV(Cs=100, max_iter=500, solver=\"liblinear\")\n",
        "\n",
        "logit.fit(features, target)\n",
        "\n",
        "print(logit)"
      ],
      "metadata": {
        "colab": {
          "base_uri": "https://localhost:8080/"
        },
        "id": "jCuVKNm57are",
        "outputId": "74c68c13-0639-4d1f-8c33-4acc2989bbd8"
      },
      "execution_count": 27,
      "outputs": [
        {
          "output_type": "stream",
          "name": "stdout",
          "text": [
            "LogisticRegressionCV(Cs=100, max_iter=500, solver='liblinear')\n"
          ]
        }
      ]
    },
    {
      "cell_type": "markdown",
      "source": [
        "#Evaluating Performance After Model Selection"
      ],
      "metadata": {
        "id": "EbwYQsJW8UZn"
      }
    },
    {
      "cell_type": "code",
      "source": [
        "from sklearn import linear_model, datasets\n",
        "from sklearn.model_selection import GridSearchCV, cross_val_score\n",
        "\n",
        "iris = datasets.load_iris()\n",
        "\n",
        "features, target = iris.data, iris.target\n",
        "\n",
        "logistic = linear_model.LogisticRegression(max_iter=500, solver=\"liblinear\")\n",
        "\n",
        "C = np.logspace(0, 4, 20)\n",
        "\n",
        "hyperparameters = dict(C=C)\n",
        "\n",
        "gridsearch = GridSearchCV(logistic, hyperparameters, cv=5, n_jobs=-1, verbose=1)\n",
        "\n",
        "cross_val_score(gridsearch, features, target).mean()\n"
      ],
      "metadata": {
        "colab": {
          "base_uri": "https://localhost:8080/"
        },
        "id": "Doyhbtcy8WDu",
        "outputId": "fffad687-57a2-4ca5-d47e-3d07aacace57"
      },
      "execution_count": 28,
      "outputs": [
        {
          "output_type": "stream",
          "name": "stdout",
          "text": [
            "Fitting 5 folds for each of 20 candidates, totalling 100 fits\n",
            "Fitting 5 folds for each of 20 candidates, totalling 100 fits\n",
            "Fitting 5 folds for each of 20 candidates, totalling 100 fits\n",
            "Fitting 5 folds for each of 20 candidates, totalling 100 fits\n",
            "Fitting 5 folds for each of 20 candidates, totalling 100 fits\n"
          ]
        },
        {
          "output_type": "execute_result",
          "data": {
            "text/plain": [
              "0.9733333333333334"
            ]
          },
          "metadata": {},
          "execution_count": 28
        }
      ]
    },
    {
      "cell_type": "code",
      "source": [],
      "metadata": {
        "id": "WLuSCirJ9Oqz"
      },
      "execution_count": null,
      "outputs": []
    }
  ]
}